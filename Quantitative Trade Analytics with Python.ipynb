{
 "cells": [
  {
   "cell_type": "markdown",
   "metadata": {},
   "source": [
    "\n",
    "\n",
    "\n",
    "# ➩  __Quantitative Trade Analytics with Python   📈📊__            \n",
    "#### _________ _by __Ramesh Sabhavath__ 👨🏼‍💻_\n",
    "\n",
    "\n"
   ]
  },
  {
   "cell_type": "code",
   "execution_count": null,
   "metadata": {},
   "outputs": [],
   "source": []
  },
  {
   "cell_type": "markdown",
   "metadata": {},
   "source": [
    "### _I am conducting walk-forward testing on a trading algorithm that I developed_\n",
    "### _The objective of this analysis is to derive meaningful insights into the performance of the trading account_."
   ]
  },
  {
   "cell_type": "code",
   "execution_count": 1,
   "metadata": {},
   "outputs": [],
   "source": [
    "# Importing required libraries / modules\n",
    "\n",
    "import pandas as pd\n",
    "import numpy as np\n",
    "import matplotlib.pyplot as plt\n",
    "import seaborn as sns\n",
    "\n",
    "from scipy.stats import skew, kurtosis, geom, rv_histogram, powerlaw, expon\n",
    "from datetime import timedelta\n",
    "import random "
   ]
  },
  {
   "cell_type": "code",
   "execution_count": 6,
   "metadata": {},
   "outputs": [
    {
     "data": {
      "text/plain": [
       "(1139, 17)"
      ]
     },
     "execution_count": 6,
     "metadata": {},
     "output_type": "execute_result"
    }
   ],
   "source": [
    "df.shape"
   ]
  },
  {
   "cell_type": "markdown",
   "metadata": {},
   "source": [
    "### Data importing from my local system\n",
    "### _Thisdata contains information on 1139+0 = 1140 Trades performed by my trading algorithm._"
   ]
  },
  {
   "cell_type": "code",
   "execution_count": 2,
   "metadata": {},
   "outputs": [
    {
     "data": {
      "text/html": [
       "<div>\n",
       "<style scoped>\n",
       "    .dataframe tbody tr th:only-of-type {\n",
       "        vertical-align: middle;\n",
       "    }\n",
       "\n",
       "    .dataframe tbody tr th {\n",
       "        vertical-align: top;\n",
       "    }\n",
       "\n",
       "    .dataframe thead th {\n",
       "        text-align: right;\n",
       "    }\n",
       "</style>\n",
       "<table border=\"1\" class=\"dataframe\">\n",
       "  <thead>\n",
       "    <tr style=\"text-align: right;\">\n",
       "      <th></th>\n",
       "      <th>Ticket</th>\n",
       "      <th>Magic</th>\n",
       "      <th>Comment</th>\n",
       "      <th>Open Time</th>\n",
       "      <th>Open Datetime</th>\n",
       "      <th>Open Price</th>\n",
       "      <th>Close Datetime</th>\n",
       "      <th>Close Price</th>\n",
       "      <th>Closing Time</th>\n",
       "      <th>Type</th>\n",
       "      <th>Lots</th>\n",
       "      <th>Symbol</th>\n",
       "      <th>Take Profit</th>\n",
       "      <th>Stop Loss</th>\n",
       "      <th>Profit</th>\n",
       "      <th>Swap</th>\n",
       "      <th>Commission</th>\n",
       "    </tr>\n",
       "  </thead>\n",
       "  <tbody>\n",
       "    <tr>\n",
       "      <th>0</th>\n",
       "      <td>5445.0</td>\n",
       "      <td>157</td>\n",
       "      <td>Kite Web</td>\n",
       "      <td>12:36:00</td>\n",
       "      <td>2019-04-01 12:23:00</td>\n",
       "      <td>13227.0</td>\n",
       "      <td>2019-05-04 12:23:00</td>\n",
       "      <td>16779.0</td>\n",
       "      <td>12:34:00</td>\n",
       "      <td>INFY</td>\n",
       "      <td>0.01</td>\n",
       "      <td>EURUSD</td>\n",
       "      <td>1</td>\n",
       "      <td>0</td>\n",
       "      <td>1</td>\n",
       "      <td>45</td>\n",
       "      <td>2861</td>\n",
       "    </tr>\n",
       "    <tr>\n",
       "      <th>1</th>\n",
       "      <td>5287.0</td>\n",
       "      <td>136</td>\n",
       "      <td>Kite Mobile</td>\n",
       "      <td>01:44:00</td>\n",
       "      <td>2019-04-02 01:34:00</td>\n",
       "      <td>11163.0</td>\n",
       "      <td>2019-01-06 01:34:00</td>\n",
       "      <td>17657.0</td>\n",
       "      <td>08:23:00</td>\n",
       "      <td>TCS</td>\n",
       "      <td>0.01</td>\n",
       "      <td>AUDCAD</td>\n",
       "      <td>1</td>\n",
       "      <td>1</td>\n",
       "      <td>1</td>\n",
       "      <td>41</td>\n",
       "      <td>2669</td>\n",
       "    </tr>\n",
       "    <tr>\n",
       "      <th>2</th>\n",
       "      <td>3086.0</td>\n",
       "      <td>367</td>\n",
       "      <td>Kite API</td>\n",
       "      <td>14:52:00</td>\n",
       "      <td>2019-04-02 14:45:00</td>\n",
       "      <td>15925.0</td>\n",
       "      <td>2018-09-09 14:45:00</td>\n",
       "      <td>19973.0</td>\n",
       "      <td>04:12:00</td>\n",
       "      <td>RELIANCE</td>\n",
       "      <td>0.01</td>\n",
       "      <td>USDINR</td>\n",
       "      <td>1</td>\n",
       "      <td>1</td>\n",
       "      <td>1</td>\n",
       "      <td>27</td>\n",
       "      <td>2509</td>\n",
       "    </tr>\n",
       "    <tr>\n",
       "      <th>3</th>\n",
       "      <td>3603.0</td>\n",
       "      <td>25</td>\n",
       "      <td>Pi / Nest</td>\n",
       "      <td>04:00:00</td>\n",
       "      <td>2019-04-03 03:56:00</td>\n",
       "      <td>17202.0</td>\n",
       "      <td>2018-05-14 03:56:00</td>\n",
       "      <td>19188.0</td>\n",
       "      <td>00:01:00</td>\n",
       "      <td>AAPL</td>\n",
       "      <td>0.01</td>\n",
       "      <td>XAUUSD</td>\n",
       "      <td>1</td>\n",
       "      <td>1</td>\n",
       "      <td>1</td>\n",
       "      <td>40</td>\n",
       "      <td>2792</td>\n",
       "    </tr>\n",
       "    <tr>\n",
       "      <th>4</th>\n",
       "      <td>2879.0</td>\n",
       "      <td>136</td>\n",
       "      <td>Pending</td>\n",
       "      <td>17:08:00</td>\n",
       "      <td>2019-04-03 17:07:00</td>\n",
       "      <td>16533.0</td>\n",
       "      <td>2018-01-15 17:07:00</td>\n",
       "      <td>24624.0</td>\n",
       "      <td>19:50:00</td>\n",
       "      <td>MSFT</td>\n",
       "      <td>0.01</td>\n",
       "      <td>AUDCAD</td>\n",
       "      <td>1</td>\n",
       "      <td>1</td>\n",
       "      <td>1</td>\n",
       "      <td>34</td>\n",
       "      <td>3769</td>\n",
       "    </tr>\n",
       "  </tbody>\n",
       "</table>\n",
       "</div>"
      ],
      "text/plain": [
       "   Ticket  Magic      Comment Open Time       Open Datetime  Open Price  \\\n",
       "0  5445.0    157     Kite Web  12:36:00 2019-04-01 12:23:00     13227.0   \n",
       "1  5287.0    136  Kite Mobile  01:44:00 2019-04-02 01:34:00     11163.0   \n",
       "2  3086.0    367     Kite API  14:52:00 2019-04-02 14:45:00     15925.0   \n",
       "3  3603.0     25    Pi / Nest  04:00:00 2019-04-03 03:56:00     17202.0   \n",
       "4  2879.0    136      Pending  17:08:00 2019-04-03 17:07:00     16533.0   \n",
       "\n",
       "       Close Datetime  Close Price Closing Time       Type  Lots   Symbol  \\\n",
       "0 2019-05-04 12:23:00      16779.0     12:34:00       INFY  0.01  EURUSD    \n",
       "1 2019-01-06 01:34:00      17657.0     08:23:00        TCS  0.01  AUDCAD    \n",
       "2 2018-09-09 14:45:00      19973.0     04:12:00   RELIANCE  0.01  USDINR    \n",
       "3 2018-05-14 03:56:00      19188.0     00:01:00       AAPL  0.01  XAUUSD    \n",
       "4 2018-01-15 17:07:00      24624.0     19:50:00       MSFT  0.01  AUDCAD    \n",
       "\n",
       "   Take Profit  Stop Loss  Profit  Swap  Commission  \n",
       "0            1          0       1    45        2861  \n",
       "1            1          1       1    41        2669  \n",
       "2            1          1       1    27        2509  \n",
       "3            1          1       1    40        2792  \n",
       "4            1          1       1    34        3769  "
      ]
     },
     "execution_count": 2,
     "metadata": {},
     "output_type": "execute_result"
    }
   ],
   "source": [
    "import pandas as pd\n",
    "\n",
    "df = pd.read_excel(\"C:/Users/rameshsabhavath/OneDrive/Documents/TradingReports.xlsx\")\n",
    "df.head()"
   ]
  },
  {
   "cell_type": "code",
   "execution_count": 3,
   "metadata": {},
   "outputs": [
    {
     "data": {
      "text/html": [
       "<div>\n",
       "<style scoped>\n",
       "    .dataframe tbody tr th:only-of-type {\n",
       "        vertical-align: middle;\n",
       "    }\n",
       "\n",
       "    .dataframe tbody tr th {\n",
       "        vertical-align: top;\n",
       "    }\n",
       "\n",
       "    .dataframe thead th {\n",
       "        text-align: right;\n",
       "    }\n",
       "</style>\n",
       "<table border=\"1\" class=\"dataframe\">\n",
       "  <thead>\n",
       "    <tr style=\"text-align: right;\">\n",
       "      <th></th>\n",
       "      <th>count</th>\n",
       "      <th>mean</th>\n",
       "      <th>min</th>\n",
       "      <th>25%</th>\n",
       "      <th>50%</th>\n",
       "      <th>75%</th>\n",
       "      <th>max</th>\n",
       "      <th>std</th>\n",
       "    </tr>\n",
       "  </thead>\n",
       "  <tbody>\n",
       "    <tr>\n",
       "      <th>Ticket</th>\n",
       "      <td>1134.0</td>\n",
       "      <td>3998.669312</td>\n",
       "      <td>2365.0</td>\n",
       "      <td>3162.25</td>\n",
       "      <td>3996.5</td>\n",
       "      <td>4857.25</td>\n",
       "      <td>5672.0</td>\n",
       "      <td>957.250657</td>\n",
       "    </tr>\n",
       "    <tr>\n",
       "      <th>Magic</th>\n",
       "      <td>1139.0</td>\n",
       "      <td>243.561896</td>\n",
       "      <td>23.0</td>\n",
       "      <td>140.5</td>\n",
       "      <td>242.0</td>\n",
       "      <td>343.0</td>\n",
       "      <td>456.0</td>\n",
       "      <td>122.291278</td>\n",
       "    </tr>\n",
       "    <tr>\n",
       "      <th>Open Datetime</th>\n",
       "      <td>1139</td>\n",
       "      <td>2020-02-08 01:42:00</td>\n",
       "      <td>2019-04-01 12:23:00</td>\n",
       "      <td>2019-09-04 19:02:30</td>\n",
       "      <td>2020-02-08 01:42:00</td>\n",
       "      <td>2020-07-13 08:21:30</td>\n",
       "      <td>2020-12-16 15:01:00</td>\n",
       "      <td>NaN</td>\n",
       "    </tr>\n",
       "    <tr>\n",
       "      <th>Open Price</th>\n",
       "      <td>1126.0</td>\n",
       "      <td>15571.540853</td>\n",
       "      <td>11010.0</td>\n",
       "      <td>13321.25</td>\n",
       "      <td>15628.5</td>\n",
       "      <td>17896.5</td>\n",
       "      <td>19999.0</td>\n",
       "      <td>2593.839066</td>\n",
       "    </tr>\n",
       "    <tr>\n",
       "      <th>Close Datetime</th>\n",
       "      <td>1139</td>\n",
       "      <td>1999-08-05 03:02:54.890254720</td>\n",
       "      <td>1901-04-17 11:07:00</td>\n",
       "      <td>1991-04-15 12:44:30</td>\n",
       "      <td>2019-01-06 01:34:00</td>\n",
       "      <td>2019-05-04 12:23:00</td>\n",
       "      <td>2019-05-04 12:23:00</td>\n",
       "      <td>NaN</td>\n",
       "    </tr>\n",
       "    <tr>\n",
       "      <th>Close Price</th>\n",
       "      <td>1127.0</td>\n",
       "      <td>20874.56433</td>\n",
       "      <td>16779.0</td>\n",
       "      <td>18901.5</td>\n",
       "      <td>20775.0</td>\n",
       "      <td>22828.5</td>\n",
       "      <td>24994.0</td>\n",
       "      <td>2291.581155</td>\n",
       "    </tr>\n",
       "    <tr>\n",
       "      <th>Lots</th>\n",
       "      <td>1139.0</td>\n",
       "      <td>0.01</td>\n",
       "      <td>0.01</td>\n",
       "      <td>0.01</td>\n",
       "      <td>0.01</td>\n",
       "      <td>0.01</td>\n",
       "      <td>0.01</td>\n",
       "      <td>0.0</td>\n",
       "    </tr>\n",
       "    <tr>\n",
       "      <th>Take Profit</th>\n",
       "      <td>1139.0</td>\n",
       "      <td>0.847234</td>\n",
       "      <td>-1.0</td>\n",
       "      <td>1.0</td>\n",
       "      <td>1.0</td>\n",
       "      <td>1.0</td>\n",
       "      <td>1.0</td>\n",
       "      <td>0.531453</td>\n",
       "    </tr>\n",
       "    <tr>\n",
       "      <th>Stop Loss</th>\n",
       "      <td>1139.0</td>\n",
       "      <td>0.923617</td>\n",
       "      <td>0.0</td>\n",
       "      <td>1.0</td>\n",
       "      <td>1.0</td>\n",
       "      <td>1.0</td>\n",
       "      <td>1.0</td>\n",
       "      <td>0.265726</td>\n",
       "    </tr>\n",
       "    <tr>\n",
       "      <th>Profit</th>\n",
       "      <td>1139.0</td>\n",
       "      <td>0.923617</td>\n",
       "      <td>0.0</td>\n",
       "      <td>1.0</td>\n",
       "      <td>1.0</td>\n",
       "      <td>1.0</td>\n",
       "      <td>1.0</td>\n",
       "      <td>0.265726</td>\n",
       "    </tr>\n",
       "    <tr>\n",
       "      <th>Swap</th>\n",
       "      <td>1139.0</td>\n",
       "      <td>34.117647</td>\n",
       "      <td>23.0</td>\n",
       "      <td>28.0</td>\n",
       "      <td>34.0</td>\n",
       "      <td>40.0</td>\n",
       "      <td>45.0</td>\n",
       "      <td>6.622526</td>\n",
       "    </tr>\n",
       "    <tr>\n",
       "      <th>Commission</th>\n",
       "      <td>1139.0</td>\n",
       "      <td>2794.655838</td>\n",
       "      <td>0.0</td>\n",
       "      <td>2433.0</td>\n",
       "      <td>2940.0</td>\n",
       "      <td>3486.5</td>\n",
       "      <td>4000.0</td>\n",
       "      <td>969.941007</td>\n",
       "    </tr>\n",
       "  </tbody>\n",
       "</table>\n",
       "</div>"
      ],
      "text/plain": [
       "                 count                           mean                  min  \\\n",
       "Ticket          1134.0                    3998.669312               2365.0   \n",
       "Magic           1139.0                     243.561896                 23.0   \n",
       "Open Datetime     1139            2020-02-08 01:42:00  2019-04-01 12:23:00   \n",
       "Open Price      1126.0                   15571.540853              11010.0   \n",
       "Close Datetime    1139  1999-08-05 03:02:54.890254720  1901-04-17 11:07:00   \n",
       "Close Price     1127.0                    20874.56433              16779.0   \n",
       "Lots            1139.0                           0.01                 0.01   \n",
       "Take Profit     1139.0                       0.847234                 -1.0   \n",
       "Stop Loss       1139.0                       0.923617                  0.0   \n",
       "Profit          1139.0                       0.923617                  0.0   \n",
       "Swap            1139.0                      34.117647                 23.0   \n",
       "Commission      1139.0                    2794.655838                  0.0   \n",
       "\n",
       "                                25%                  50%                  75%  \\\n",
       "Ticket                      3162.25               3996.5              4857.25   \n",
       "Magic                         140.5                242.0                343.0   \n",
       "Open Datetime   2019-09-04 19:02:30  2020-02-08 01:42:00  2020-07-13 08:21:30   \n",
       "Open Price                 13321.25              15628.5              17896.5   \n",
       "Close Datetime  1991-04-15 12:44:30  2019-01-06 01:34:00  2019-05-04 12:23:00   \n",
       "Close Price                 18901.5              20775.0              22828.5   \n",
       "Lots                           0.01                 0.01                 0.01   \n",
       "Take Profit                     1.0                  1.0                  1.0   \n",
       "Stop Loss                       1.0                  1.0                  1.0   \n",
       "Profit                          1.0                  1.0                  1.0   \n",
       "Swap                           28.0                 34.0                 40.0   \n",
       "Commission                   2433.0               2940.0               3486.5   \n",
       "\n",
       "                                max          std  \n",
       "Ticket                       5672.0   957.250657  \n",
       "Magic                         456.0   122.291278  \n",
       "Open Datetime   2020-12-16 15:01:00          NaN  \n",
       "Open Price                  19999.0  2593.839066  \n",
       "Close Datetime  2019-05-04 12:23:00          NaN  \n",
       "Close Price                 24994.0  2291.581155  \n",
       "Lots                           0.01          0.0  \n",
       "Take Profit                     1.0     0.531453  \n",
       "Stop Loss                       1.0     0.265726  \n",
       "Profit                          1.0     0.265726  \n",
       "Swap                           45.0     6.622526  \n",
       "Commission                   4000.0   969.941007  "
      ]
     },
     "execution_count": 3,
     "metadata": {},
     "output_type": "execute_result"
    }
   ],
   "source": [
    "df.describe().T"
   ]
  },
  {
   "cell_type": "code",
   "execution_count": 4,
   "metadata": {},
   "outputs": [
    {
     "name": "stdout",
     "output_type": "stream",
     "text": [
      "<class 'pandas.core.frame.DataFrame'>\n",
      "RangeIndex: 1139 entries, 0 to 1138\n",
      "Data columns (total 17 columns):\n",
      " #   Column          Non-Null Count  Dtype         \n",
      "---  ------          --------------  -----         \n",
      " 0   Ticket          1134 non-null   float64       \n",
      " 1   Magic           1139 non-null   int64         \n",
      " 2   Comment         1117 non-null   object        \n",
      " 3   Open Time       1139 non-null   object        \n",
      " 4   Open Datetime   1139 non-null   datetime64[ns]\n",
      " 5   Open Price      1126 non-null   float64       \n",
      " 6   Close Datetime  1139 non-null   datetime64[ns]\n",
      " 7   Close Price     1127 non-null   float64       \n",
      " 8   Closing Time    1139 non-null   object        \n",
      " 9   Type            1096 non-null   object        \n",
      " 10  Lots            1139 non-null   float64       \n",
      " 11  Symbol          1120 non-null   object        \n",
      " 12  Take Profit     1139 non-null   int64         \n",
      " 13  Stop Loss       1139 non-null   int64         \n",
      " 14  Profit          1139 non-null   int64         \n",
      " 15  Swap            1139 non-null   int64         \n",
      " 16  Commission      1139 non-null   int64         \n",
      "dtypes: datetime64[ns](2), float64(4), int64(6), object(5)\n",
      "memory usage: 151.4+ KB\n"
     ]
    }
   ],
   "source": [
    "df.info()"
   ]
  },
  {
   "cell_type": "code",
   "execution_count": 5,
   "metadata": {},
   "outputs": [
    {
     "data": {
      "text/plain": [
       "Ticket             5\n",
       "Magic              0\n",
       "Comment           22\n",
       "Open Time          0\n",
       "Open Datetime      0\n",
       "Open Price        13\n",
       "Close Datetime     0\n",
       "Close Price       12\n",
       "Closing Time       0\n",
       "Type              43\n",
       "Lots               0\n",
       "Symbol            19\n",
       "Take Profit        0\n",
       "Stop Loss          0\n",
       "Profit             0\n",
       "Swap               0\n",
       "Commission         0\n",
       "dtype: int64"
      ]
     },
     "execution_count": 5,
     "metadata": {},
     "output_type": "execute_result"
    }
   ],
   "source": [
    "df.isnull().sum()"
   ]
  },
  {
   "cell_type": "markdown",
   "metadata": {},
   "source": [
    "# Data preparation"
   ]
  },
  {
   "cell_type": "code",
   "execution_count": null,
   "metadata": {},
   "outputs": [],
   "source": [
    "my data has so many null values\n",
    "\n",
    "replacing 'Null' values with theire appropriate validations. "
   ]
  },
  {
   "cell_type": "code",
   "execution_count": 6,
   "metadata": {},
   "outputs": [
    {
     "data": {
      "text/plain": [
       "0       3999.0\n",
       "1       3999.0\n",
       "2       3999.0\n",
       "3       3999.0\n",
       "4       3999.0\n",
       "         ...  \n",
       "1134    3999.0\n",
       "1135    3999.0\n",
       "1136    3999.0\n",
       "1137    3999.0\n",
       "1138    3999.0\n",
       "Name: Ticket, Length: 1139, dtype: float64"
      ]
     },
     "execution_count": 6,
     "metadata": {},
     "output_type": "execute_result"
    }
   ],
   "source": [
    "df['Ticket'] = df['Ticket'].mean().round()\n",
    "df['Ticket']"
   ]
  },
  {
   "cell_type": "code",
   "execution_count": 7,
   "metadata": {},
   "outputs": [
    {
     "data": {
      "text/plain": [
       "0"
      ]
     },
     "execution_count": 7,
     "metadata": {},
     "output_type": "execute_result"
    }
   ],
   "source": [
    "df['Ticket'].fillna(34837)\n",
    "df['Ticket'].isnull().sum()"
   ]
  },
  {
   "cell_type": "code",
   "execution_count": null,
   "metadata": {},
   "outputs": [],
   "source": [
    "In organizations, if someone leaves a text field incomplete, they cannot type the remaining similar values manually each time. \n",
    "so we should use they use the ffill or bfill"
   ]
  },
  {
   "cell_type": "code",
   "execution_count": 8,
   "metadata": {},
   "outputs": [
    {
     "data": {
      "text/plain": [
       "0"
      ]
     },
     "execution_count": 8,
     "metadata": {},
     "output_type": "execute_result"
    }
   ],
   "source": [
    "df['Comment'] = df['Comment'].ffill()\n",
    "df['Comment'].isnull().sum()"
   ]
  },
  {
   "cell_type": "code",
   "execution_count": 9,
   "metadata": {},
   "outputs": [
    {
     "data": {
      "text/plain": [
       "15571.540852575488"
      ]
     },
     "execution_count": 9,
     "metadata": {},
     "output_type": "execute_result"
    }
   ],
   "source": [
    "df['Open Price'].mean()"
   ]
  },
  {
   "cell_type": "code",
   "execution_count": 10,
   "metadata": {},
   "outputs": [
    {
     "data": {
      "text/plain": [
       "Ticket             0\n",
       "Magic              0\n",
       "Comment            0\n",
       "Open Time          0\n",
       "Open Datetime      0\n",
       "Open Price         0\n",
       "Close Datetime     0\n",
       "Close Price       12\n",
       "Closing Time       0\n",
       "Type              43\n",
       "Lots               0\n",
       "Symbol            19\n",
       "Take Profit        0\n",
       "Stop Loss          0\n",
       "Profit             0\n",
       "Swap               0\n",
       "Commission         0\n",
       "dtype: int64"
      ]
     },
     "execution_count": 10,
     "metadata": {},
     "output_type": "execute_result"
    }
   ],
   "source": [
    "\n",
    "df['Open Price'] = df['Open Price'].fillna(20182)\n",
    "df['Open Price']\n",
    "df['Close Price'].ffill()\n",
    "df.isnull().sum()\n"
   ]
  },
  {
   "cell_type": "code",
   "execution_count": 11,
   "metadata": {},
   "outputs": [
    {
     "data": {
      "text/plain": [
       "0     AAPL\n",
       "1      IMB\n",
       "2     MSFT\n",
       "Name: Type, dtype: object"
      ]
     },
     "execution_count": 11,
     "metadata": {},
     "output_type": "execute_result"
    }
   ],
   "source": [
    "df['Type'].mode()"
   ]
  },
  {
   "cell_type": "code",
   "execution_count": 12,
   "metadata": {},
   "outputs": [
    {
     "data": {
      "text/plain": [
       "Ticket             0\n",
       "Magic              0\n",
       "Comment            0\n",
       "Open Time          0\n",
       "Open Datetime      0\n",
       "Open Price         0\n",
       "Close Datetime     0\n",
       "Close Price       12\n",
       "Closing Time       0\n",
       "Type               0\n",
       "Lots               0\n",
       "Symbol            19\n",
       "Take Profit        0\n",
       "Stop Loss          0\n",
       "Profit             0\n",
       "Swap               0\n",
       "Commission         0\n",
       "dtype: int64"
      ]
     },
     "execution_count": 12,
     "metadata": {},
     "output_type": "execute_result"
    }
   ],
   "source": [
    "df['Type'] = df['Type'].fillna('FLKRT')\n",
    "df['Type']\n",
    "df.isnull().sum()"
   ]
  },
  {
   "cell_type": "code",
   "execution_count": 13,
   "metadata": {},
   "outputs": [
    {
     "data": {
      "text/plain": [
       "0       16779.0\n",
       "1       17657.0\n",
       "2       19973.0\n",
       "3       19188.0\n",
       "4       24624.0\n",
       "         ...   \n",
       "1134    21032.0\n",
       "1135    21032.0\n",
       "1136    24420.0\n",
       "1137    19664.0\n",
       "1138    19595.0\n",
       "Name: Close Price, Length: 1139, dtype: float64"
      ]
     },
     "execution_count": 13,
     "metadata": {},
     "output_type": "execute_result"
    }
   ],
   "source": [
    "\n",
    "d = df['Symbol'].ffill()\n",
    "d\n",
    "df['Close Price'] = df['Close Price'].ffill()\n",
    "df['Close Price']"
   ]
  },
  {
   "cell_type": "code",
   "execution_count": 15,
   "metadata": {},
   "outputs": [
    {
     "name": "stdout",
     "output_type": "stream",
     "text": [
      "<class 'pandas.core.frame.DataFrame'>\n",
      "RangeIndex: 1139 entries, 0 to 1138\n",
      "Data columns (total 17 columns):\n",
      " #   Column          Non-Null Count  Dtype         \n",
      "---  ------          --------------  -----         \n",
      " 0   Ticket          1139 non-null   float64       \n",
      " 1   Magic           1139 non-null   int64         \n",
      " 2   Comment         1139 non-null   object        \n",
      " 3   Open Time       1139 non-null   object        \n",
      " 4   Open Datetime   1139 non-null   datetime64[ns]\n",
      " 5   Open Price      1139 non-null   float64       \n",
      " 6   Close Datetime  1139 non-null   datetime64[ns]\n",
      " 7   Close Price     1139 non-null   float64       \n",
      " 8   Closing Time    1139 non-null   object        \n",
      " 9   Type            1139 non-null   object        \n",
      " 10  Lots            1139 non-null   float64       \n",
      " 11  Symbol          1139 non-null   object        \n",
      " 12  Take Profit     1139 non-null   int64         \n",
      " 13  Stop Loss       1139 non-null   int64         \n",
      " 14  Profit          1139 non-null   int64         \n",
      " 15  Swap            1139 non-null   int64         \n",
      " 16  Commission      1139 non-null   int64         \n",
      "dtypes: datetime64[ns](2), float64(4), int64(6), object(5)\n",
      "memory usage: 151.4+ KB\n"
     ]
    }
   ],
   "source": [
    "df.info()"
   ]
  },
  {
   "cell_type": "code",
   "execution_count": 14,
   "metadata": {},
   "outputs": [
    {
     "data": {
      "text/plain": [
       "0             EURUSD \n",
       "1             AUDCAD \n",
       "2             USDINR \n",
       "3             XAUUSD \n",
       "4             AUDCAD \n",
       "            ...      \n",
       "1134    ETHUSDT ether\n",
       "1135          BNBUSDT\n",
       "1136              CL \n",
       "1137          USDINR \n",
       "1138          EURUSD \n",
       "Name: Symbol, Length: 1139, dtype: object"
      ]
     },
     "execution_count": 14,
     "metadata": {},
     "output_type": "execute_result"
    }
   ],
   "source": [
    "df['Symbol'] = df['Symbol'].ffill()\n",
    "df['Symbol']"
   ]
  },
  {
   "cell_type": "code",
   "execution_count": 16,
   "metadata": {},
   "outputs": [
    {
     "data": {
      "text/plain": [
       "Ticket            0\n",
       "Magic             0\n",
       "Comment           0\n",
       "Open Time         0\n",
       "Open Datetime     0\n",
       "Open Price        0\n",
       "Close Datetime    0\n",
       "Close Price       0\n",
       "Closing Time      0\n",
       "Type              0\n",
       "Lots              0\n",
       "Symbol            0\n",
       "Take Profit       0\n",
       "Stop Loss         0\n",
       "Profit            0\n",
       "Swap              0\n",
       "Commission        0\n",
       "dtype: int64"
      ]
     },
     "execution_count": 16,
     "metadata": {},
     "output_type": "execute_result"
    }
   ],
   "source": [
    "df.isnull().sum()"
   ]
  },
  {
   "cell_type": "markdown",
   "metadata": {},
   "source": [
    "\n",
    "## I cleand the data there is no mising values left. ready to use... \n"
   ]
  },
  {
   "cell_type": "code",
   "execution_count": null,
   "metadata": {},
   "outputs": [],
   "source": [
    "The names of columns are fairly self explanatory.\n",
    "However I feel I should provide more information on these:\n",
    "\n",
    "'Ticket' is generated by the broker .\n",
    "'Magic' column is used to distinguish between trading algorithms.\n",
    "'Comment' will be used to determine the reason why a trade was closed."
   ]
  },
  {
   "cell_type": "code",
   "execution_count": 17,
   "metadata": {},
   "outputs": [
    {
     "data": {
      "text/html": [
       "<div>\n",
       "<style scoped>\n",
       "    .dataframe tbody tr th:only-of-type {\n",
       "        vertical-align: middle;\n",
       "    }\n",
       "\n",
       "    .dataframe tbody tr th {\n",
       "        vertical-align: top;\n",
       "    }\n",
       "\n",
       "    .dataframe thead th {\n",
       "        text-align: right;\n",
       "    }\n",
       "</style>\n",
       "<table border=\"1\" class=\"dataframe\">\n",
       "  <thead>\n",
       "    <tr style=\"text-align: right;\">\n",
       "      <th></th>\n",
       "      <th>Ticket</th>\n",
       "      <th>Magic</th>\n",
       "      <th>Comment</th>\n",
       "      <th>Open Time</th>\n",
       "      <th>Open Datetime</th>\n",
       "      <th>Open Price</th>\n",
       "      <th>Close Datetime</th>\n",
       "      <th>Close Price</th>\n",
       "      <th>Closing Time</th>\n",
       "      <th>Type</th>\n",
       "      <th>Lots</th>\n",
       "      <th>Symbol</th>\n",
       "      <th>Take Profit</th>\n",
       "      <th>Stop Loss</th>\n",
       "      <th>Profit</th>\n",
       "      <th>Swap</th>\n",
       "      <th>Commission</th>\n",
       "    </tr>\n",
       "  </thead>\n",
       "  <tbody>\n",
       "    <tr>\n",
       "      <th>0</th>\n",
       "      <td>3999.0</td>\n",
       "      <td>345</td>\n",
       "      <td>Kite Web</td>\n",
       "      <td>12:36:00</td>\n",
       "      <td>2019-04-01 12:23:00</td>\n",
       "      <td>13227.0</td>\n",
       "      <td>2019-05-04 12:23:00</td>\n",
       "      <td>16779.0</td>\n",
       "      <td>12:34:00</td>\n",
       "      <td>INFY</td>\n",
       "      <td>0.01</td>\n",
       "      <td>EURUSD</td>\n",
       "      <td>1</td>\n",
       "      <td>0</td>\n",
       "      <td>1</td>\n",
       "      <td>45</td>\n",
       "      <td>2861</td>\n",
       "    </tr>\n",
       "  </tbody>\n",
       "</table>\n",
       "</div>"
      ],
      "text/plain": [
       "   Ticket  Magic   Comment Open Time       Open Datetime  Open Price  \\\n",
       "0  3999.0    345  Kite Web  12:36:00 2019-04-01 12:23:00     13227.0   \n",
       "\n",
       "       Close Datetime  Close Price Closing Time  Type  Lots   Symbol  \\\n",
       "0 2019-05-04 12:23:00      16779.0     12:34:00  INFY  0.01  EURUSD    \n",
       "\n",
       "   Take Profit  Stop Loss  Profit  Swap  Commission  \n",
       "0            1          0       1    45        2861  "
      ]
     },
     "execution_count": 17,
     "metadata": {},
     "output_type": "execute_result"
    }
   ],
   "source": [
    "df.loc[df['Magic'] == 157, 'Magic'] = 345\n",
    "df.head(1)"
   ]
  },
  {
   "cell_type": "code",
   "execution_count": 18,
   "metadata": {},
   "outputs": [
    {
     "data": {
      "text/plain": [
       "Ticket            0\n",
       "Magic             0\n",
       "Comment           0\n",
       "Open Time         0\n",
       "Open Datetime     0\n",
       "Open Price        0\n",
       "Close Datetime    0\n",
       "Close Price       0\n",
       "Closing Time      0\n",
       "Type              0\n",
       "Lots              0\n",
       "Symbol            0\n",
       "Take Profit       0\n",
       "Stop Loss         0\n",
       "Profit            0\n",
       "Swap              0\n",
       "Commission        0\n",
       "dtype: int64"
      ]
     },
     "execution_count": 18,
     "metadata": {},
     "output_type": "execute_result"
    }
   ],
   "source": [
    "df.isna().sum()"
   ]
  },
  {
   "cell_type": "code",
   "execution_count": 19,
   "metadata": {},
   "outputs": [
    {
     "data": {
      "text/plain": [
       "2861"
      ]
     },
     "execution_count": 19,
     "metadata": {},
     "output_type": "execute_result"
    }
   ],
   "source": [
    "df['Commission'][0]"
   ]
  },
  {
   "cell_type": "markdown",
   "metadata": {},
   "source": [
    "##### I expect that all open prices are positive, so I count how many are negative."
   ]
  },
  {
   "cell_type": "code",
   "execution_count": 20,
   "metadata": {},
   "outputs": [
    {
     "data": {
      "text/plain": [
       "0"
      ]
     },
     "execution_count": 20,
     "metadata": {},
     "output_type": "execute_result"
    }
   ],
   "source": [
    "df[df['Open Price'] <= 0]['Open Price'].count()"
   ]
  },
  {
   "cell_type": "markdown",
   "metadata": {},
   "source": [
    "##### The same should apply to close prices."
   ]
  },
  {
   "cell_type": "code",
   "execution_count": 21,
   "metadata": {},
   "outputs": [
    {
     "data": {
      "text/plain": [
       "0"
      ]
     },
     "execution_count": 21,
     "metadata": {},
     "output_type": "execute_result"
    }
   ],
   "source": [
    "df[df['Close Price'] <= 0]['Close Price'].count()"
   ]
  },
  {
   "cell_type": "markdown",
   "metadata": {},
   "source": [
    "##### Lots also should be positive."
   ]
  },
  {
   "cell_type": "code",
   "execution_count": 22,
   "metadata": {},
   "outputs": [
    {
     "data": {
      "text/plain": [
       "0"
      ]
     },
     "execution_count": 22,
     "metadata": {},
     "output_type": "execute_result"
    }
   ],
   "source": [
    "df[df['Lots'] <= 0]['Lots'].count()"
   ]
  },
  {
   "cell_type": "markdown",
   "metadata": {},
   "source": [
    "## Transformations\n",
    "\n",
    "For aesthetic reasons, I strip the names of symbols from \"+\" and \".\"."
   ]
  },
  {
   "cell_type": "code",
   "execution_count": 23,
   "metadata": {},
   "outputs": [],
   "source": [
    "df['Symbol'] = df['Symbol'].apply(lambda x: x.replace(\"+\", \"\"))\n",
    "df['Symbol'] = df['Symbol'].apply(lambda x: x.replace(\".\", \"\"))"
   ]
  },
  {
   "cell_type": "markdown",
   "metadata": {},
   "source": [
    "Convert columns with timestamps from strings to datetimes."
   ]
  },
  {
   "cell_type": "code",
   "execution_count": 24,
   "metadata": {},
   "outputs": [],
   "source": [
    "df['Open Datetime'] = pd.to_datetime(df['Open Datetime'])\n",
    "df['Close Datetime'] = pd.to_datetime(df['Close Datetime'])"
   ]
  },
  {
   "cell_type": "markdown",
   "metadata": {},
   "source": [
    "Chronological order is of utmost importance since I shall be performing running calculations later."
   ]
  },
  {
   "cell_type": "code",
   "execution_count": 33,
   "metadata": {},
   "outputs": [
    {
     "data": {
      "text/html": [
       "<div>\n",
       "<style scoped>\n",
       "    .dataframe tbody tr th:only-of-type {\n",
       "        vertical-align: middle;\n",
       "    }\n",
       "\n",
       "    .dataframe tbody tr th {\n",
       "        vertical-align: top;\n",
       "    }\n",
       "\n",
       "    .dataframe thead th {\n",
       "        text-align: right;\n",
       "    }\n",
       "</style>\n",
       "<table border=\"1\" class=\"dataframe\">\n",
       "  <thead>\n",
       "    <tr style=\"text-align: right;\">\n",
       "      <th></th>\n",
       "      <th>Ticket</th>\n",
       "      <th>Magic</th>\n",
       "      <th>Comment</th>\n",
       "      <th>Open Time</th>\n",
       "      <th>Open Datetime</th>\n",
       "      <th>Open Price</th>\n",
       "      <th>Close Datetime</th>\n",
       "      <th>Close Price</th>\n",
       "      <th>Closing Time</th>\n",
       "      <th>Type</th>\n",
       "      <th>Lots</th>\n",
       "      <th>Symbol</th>\n",
       "      <th>Take Profit</th>\n",
       "      <th>Stop Loss</th>\n",
       "      <th>Profit</th>\n",
       "      <th>Swap</th>\n",
       "      <th>Commission</th>\n",
       "    </tr>\n",
       "  </thead>\n",
       "  <tbody>\n",
       "    <tr>\n",
       "      <th>0</th>\n",
       "      <td>3999.0</td>\n",
       "      <td>345</td>\n",
       "      <td>Kite Web</td>\n",
       "      <td>12:36:00</td>\n",
       "      <td>2019-04-01 12:23:00</td>\n",
       "      <td>13227.0</td>\n",
       "      <td>2019-05-04 12:23:00</td>\n",
       "      <td>16779.0</td>\n",
       "      <td>12:34:00</td>\n",
       "      <td>INFY</td>\n",
       "      <td>0.01</td>\n",
       "      <td>EURUSD</td>\n",
       "      <td>1</td>\n",
       "      <td>0</td>\n",
       "      <td>1</td>\n",
       "      <td>45</td>\n",
       "      <td>2861</td>\n",
       "    </tr>\n",
       "    <tr>\n",
       "      <th>1</th>\n",
       "      <td>3999.0</td>\n",
       "      <td>136</td>\n",
       "      <td>Kite Mobile</td>\n",
       "      <td>01:44:00</td>\n",
       "      <td>2019-04-02 01:34:00</td>\n",
       "      <td>11163.0</td>\n",
       "      <td>2019-01-06 01:34:00</td>\n",
       "      <td>17657.0</td>\n",
       "      <td>08:23:00</td>\n",
       "      <td>TCS</td>\n",
       "      <td>0.01</td>\n",
       "      <td>AUDCAD</td>\n",
       "      <td>1</td>\n",
       "      <td>1</td>\n",
       "      <td>1</td>\n",
       "      <td>41</td>\n",
       "      <td>2669</td>\n",
       "    </tr>\n",
       "  </tbody>\n",
       "</table>\n",
       "</div>"
      ],
      "text/plain": [
       "   Ticket  Magic      Comment Open Time       Open Datetime  Open Price  \\\n",
       "0  3999.0    345     Kite Web  12:36:00 2019-04-01 12:23:00     13227.0   \n",
       "1  3999.0    136  Kite Mobile  01:44:00 2019-04-02 01:34:00     11163.0   \n",
       "\n",
       "       Close Datetime  Close Price Closing Time  Type  Lots   Symbol  \\\n",
       "0 2019-05-04 12:23:00      16779.0     12:34:00  INFY  0.01  EURUSD    \n",
       "1 2019-01-06 01:34:00      17657.0     08:23:00   TCS  0.01  AUDCAD    \n",
       "\n",
       "   Take Profit  Stop Loss  Profit  Swap  Commission  \n",
       "0            1          0       1    45        2861  \n",
       "1            1          1       1    41        2669  "
      ]
     },
     "execution_count": 33,
     "metadata": {},
     "output_type": "execute_result"
    }
   ],
   "source": [
    "df.head(2)"
   ]
  },
  {
   "cell_type": "code",
   "execution_count": 34,
   "metadata": {},
   "outputs": [
    {
     "data": {
      "text/plain": [
       "(1139, 17)"
      ]
     },
     "execution_count": 34,
     "metadata": {},
     "output_type": "execute_result"
    }
   ],
   "source": [
    "df.shape"
   ]
  },
  {
   "cell_type": "code",
   "execution_count": 25,
   "metadata": {},
   "outputs": [],
   "source": [
    "df = df.sort_values('Open Datetime')\n",
    "df = df.reset_index(drop=True)"
   ]
  },
  {
   "cell_type": "markdown",
   "metadata": {},
   "source": [
    "## New columns\n",
    "\n",
    "In this section I add new columns to the dataset.<br>\n",
    "I shall definitely want to perform aggregations by time so I add the necessary columns. <br> \n",
    "I start with extracting the date, hour and day of week from the \"Open Datetime\" column."
   ]
  },
  {
   "cell_type": "code",
   "execution_count": 26,
   "metadata": {},
   "outputs": [
    {
     "data": {
      "text/html": [
       "<div>\n",
       "<style scoped>\n",
       "    .dataframe tbody tr th:only-of-type {\n",
       "        vertical-align: middle;\n",
       "    }\n",
       "\n",
       "    .dataframe tbody tr th {\n",
       "        vertical-align: top;\n",
       "    }\n",
       "\n",
       "    .dataframe thead th {\n",
       "        text-align: right;\n",
       "    }\n",
       "</style>\n",
       "<table border=\"1\" class=\"dataframe\">\n",
       "  <thead>\n",
       "    <tr style=\"text-align: right;\">\n",
       "      <th></th>\n",
       "      <th>Ticket</th>\n",
       "      <th>Magic</th>\n",
       "      <th>Comment</th>\n",
       "      <th>Open Time</th>\n",
       "      <th>Open Datetime</th>\n",
       "      <th>Open Price</th>\n",
       "      <th>Close Datetime</th>\n",
       "      <th>Close Price</th>\n",
       "      <th>Closing Time</th>\n",
       "      <th>Type</th>\n",
       "      <th>...</th>\n",
       "      <th>Symbol</th>\n",
       "      <th>Take Profit</th>\n",
       "      <th>Stop Loss</th>\n",
       "      <th>Profit</th>\n",
       "      <th>Swap</th>\n",
       "      <th>Commission</th>\n",
       "      <th>Open Date</th>\n",
       "      <th>Open Hour</th>\n",
       "      <th>Open Day</th>\n",
       "      <th>Open Datetime Seconds</th>\n",
       "    </tr>\n",
       "  </thead>\n",
       "  <tbody>\n",
       "    <tr>\n",
       "      <th>0</th>\n",
       "      <td>3999.0</td>\n",
       "      <td>345</td>\n",
       "      <td>Kite Web</td>\n",
       "      <td>12:36:00</td>\n",
       "      <td>2019-04-01 12:23:00</td>\n",
       "      <td>13227.0</td>\n",
       "      <td>2019-05-04 12:23:00</td>\n",
       "      <td>16779.0</td>\n",
       "      <td>12:34:00</td>\n",
       "      <td>INFY</td>\n",
       "      <td>...</td>\n",
       "      <td>EURUSD</td>\n",
       "      <td>1</td>\n",
       "      <td>0</td>\n",
       "      <td>1</td>\n",
       "      <td>45</td>\n",
       "      <td>2861</td>\n",
       "      <td>2019-04-01</td>\n",
       "      <td>12</td>\n",
       "      <td>Monday</td>\n",
       "      <td>2019-04-01 12:23:00</td>\n",
       "    </tr>\n",
       "  </tbody>\n",
       "</table>\n",
       "<p>1 rows × 21 columns</p>\n",
       "</div>"
      ],
      "text/plain": [
       "   Ticket  Magic   Comment Open Time       Open Datetime  Open Price  \\\n",
       "0  3999.0    345  Kite Web  12:36:00 2019-04-01 12:23:00     13227.0   \n",
       "\n",
       "       Close Datetime  Close Price Closing Time  Type  ...   Symbol  \\\n",
       "0 2019-05-04 12:23:00      16779.0     12:34:00  INFY  ...  EURUSD    \n",
       "\n",
       "  Take Profit  Stop Loss  Profit  Swap  Commission   Open Date Open Hour  \\\n",
       "0           1          0       1    45        2861  2019-04-01        12   \n",
       "\n",
       "   Open Day Open Datetime Seconds  \n",
       "0    Monday   2019-04-01 12:23:00  \n",
       "\n",
       "[1 rows x 21 columns]"
      ]
     },
     "execution_count": 26,
     "metadata": {},
     "output_type": "execute_result"
    }
   ],
   "source": [
    "\n",
    "df['Open Date'] = df['Open Datetime'].dt.date\n",
    "df['Open Hour'] = df['Open Datetime'].dt.hour    \n",
    "df['Open Day'] = df['Open Datetime'].dt.day_name()\n",
    "df['Open Datetime Seconds'] = pd.to_datetime(df['Open Datetime'], origin='unix')\n",
    "\n",
    "df.head(1)"
   ]
  },
  {
   "cell_type": "markdown",
   "metadata": {},
   "source": [
    "### we can notice there are 4 columns added at the end"
   ]
  },
  {
   "cell_type": "markdown",
   "metadata": {},
   "source": [
    "#### _I extract the same information as above for the \"Close Datetime\" column._"
   ]
  },
  {
   "cell_type": "code",
   "execution_count": 27,
   "metadata": {},
   "outputs": [
    {
     "data": {
      "text/html": [
       "<div>\n",
       "<style scoped>\n",
       "    .dataframe tbody tr th:only-of-type {\n",
       "        vertical-align: middle;\n",
       "    }\n",
       "\n",
       "    .dataframe tbody tr th {\n",
       "        vertical-align: top;\n",
       "    }\n",
       "\n",
       "    .dataframe thead th {\n",
       "        text-align: right;\n",
       "    }\n",
       "</style>\n",
       "<table border=\"1\" class=\"dataframe\">\n",
       "  <thead>\n",
       "    <tr style=\"text-align: right;\">\n",
       "      <th></th>\n",
       "      <th>Ticket</th>\n",
       "      <th>Magic</th>\n",
       "      <th>Comment</th>\n",
       "      <th>Open Time</th>\n",
       "      <th>Open Datetime</th>\n",
       "      <th>Open Price</th>\n",
       "      <th>Close Datetime</th>\n",
       "      <th>Close Price</th>\n",
       "      <th>Closing Time</th>\n",
       "      <th>Type</th>\n",
       "      <th>...</th>\n",
       "      <th>Swap</th>\n",
       "      <th>Commission</th>\n",
       "      <th>Open Date</th>\n",
       "      <th>Open Hour</th>\n",
       "      <th>Open Day</th>\n",
       "      <th>Open Datetime Seconds</th>\n",
       "      <th>Close Date</th>\n",
       "      <th>Close Hour</th>\n",
       "      <th>Close Day</th>\n",
       "      <th>Close Datetime Seconds</th>\n",
       "    </tr>\n",
       "  </thead>\n",
       "  <tbody>\n",
       "    <tr>\n",
       "      <th>1137</th>\n",
       "      <td>3999.0</td>\n",
       "      <td>331</td>\n",
       "      <td>Algo Order</td>\n",
       "      <td>14:00:00</td>\n",
       "      <td>2020-12-16 01:50:00</td>\n",
       "      <td>17547.0</td>\n",
       "      <td>2019-01-06 01:34:00</td>\n",
       "      <td>19664.0</td>\n",
       "      <td>18:31:00</td>\n",
       "      <td>AMZN</td>\n",
       "      <td>...</td>\n",
       "      <td>45</td>\n",
       "      <td>3950</td>\n",
       "      <td>2020-12-16</td>\n",
       "      <td>1</td>\n",
       "      <td>Wednesday</td>\n",
       "      <td>2020-12-16 01:50:00</td>\n",
       "      <td>2019-01-06</td>\n",
       "      <td>1</td>\n",
       "      <td>Sunday</td>\n",
       "      <td>2019-01-06 01:34:00</td>\n",
       "    </tr>\n",
       "    <tr>\n",
       "      <th>1138</th>\n",
       "      <td>3999.0</td>\n",
       "      <td>299</td>\n",
       "      <td>Fully Executed</td>\n",
       "      <td>03:08:00</td>\n",
       "      <td>2020-12-16 15:01:00</td>\n",
       "      <td>17498.0</td>\n",
       "      <td>2019-05-04 12:23:00</td>\n",
       "      <td>19595.0</td>\n",
       "      <td>14:20:00</td>\n",
       "      <td>SBI</td>\n",
       "      <td>...</td>\n",
       "      <td>33</td>\n",
       "      <td>3219</td>\n",
       "      <td>2020-12-16</td>\n",
       "      <td>15</td>\n",
       "      <td>Wednesday</td>\n",
       "      <td>2020-12-16 15:01:00</td>\n",
       "      <td>2019-05-04</td>\n",
       "      <td>12</td>\n",
       "      <td>Saturday</td>\n",
       "      <td>2019-05-04 12:23:00</td>\n",
       "    </tr>\n",
       "  </tbody>\n",
       "</table>\n",
       "<p>2 rows × 25 columns</p>\n",
       "</div>"
      ],
      "text/plain": [
       "      Ticket  Magic         Comment Open Time       Open Datetime  Open Price  \\\n",
       "1137  3999.0    331      Algo Order  14:00:00 2020-12-16 01:50:00     17547.0   \n",
       "1138  3999.0    299  Fully Executed  03:08:00 2020-12-16 15:01:00     17498.0   \n",
       "\n",
       "          Close Datetime  Close Price Closing Time  Type  ...  Swap  \\\n",
       "1137 2019-01-06 01:34:00      19664.0     18:31:00  AMZN  ...    45   \n",
       "1138 2019-05-04 12:23:00      19595.0     14:20:00   SBI  ...    33   \n",
       "\n",
       "     Commission   Open Date  Open Hour   Open Day  Open Datetime Seconds  \\\n",
       "1137       3950  2020-12-16          1  Wednesday    2020-12-16 01:50:00   \n",
       "1138       3219  2020-12-16         15  Wednesday    2020-12-16 15:01:00   \n",
       "\n",
       "      Close Date Close Hour  Close Day Close Datetime Seconds  \n",
       "1137  2019-01-06          1     Sunday    2019-01-06 01:34:00  \n",
       "1138  2019-05-04         12   Saturday    2019-05-04 12:23:00  \n",
       "\n",
       "[2 rows x 25 columns]"
      ]
     },
     "execution_count": 27,
     "metadata": {},
     "output_type": "execute_result"
    }
   ],
   "source": [
    "\n",
    "df['Close Date'] = df['Close Datetime'].dt.date\n",
    "df['Close Hour'] = df['Close Datetime'].dt.hour    \n",
    "df['Close Day'] = df['Close Datetime'].dt.day_name()\n",
    "df['Close Datetime Seconds'] = pd.to_datetime(df['Close Datetime'], origin='unix')\n",
    "\n",
    "df.tail(2)"
   ]
  },
  {
   "cell_type": "markdown",
   "metadata": {},
   "source": [
    "### I calculate the duration of individual trades. The final value is in minutes."
   ]
  },
  {
   "cell_type": "code",
   "execution_count": 28,
   "metadata": {},
   "outputs": [
    {
     "data": {
      "text/html": [
       "<div>\n",
       "<style scoped>\n",
       "    .dataframe tbody tr th:only-of-type {\n",
       "        vertical-align: middle;\n",
       "    }\n",
       "\n",
       "    .dataframe tbody tr th {\n",
       "        vertical-align: top;\n",
       "    }\n",
       "\n",
       "    .dataframe thead th {\n",
       "        text-align: right;\n",
       "    }\n",
       "</style>\n",
       "<table border=\"1\" class=\"dataframe\">\n",
       "  <thead>\n",
       "    <tr style=\"text-align: right;\">\n",
       "      <th></th>\n",
       "      <th>Ticket</th>\n",
       "      <th>Magic</th>\n",
       "      <th>Comment</th>\n",
       "      <th>Open Time</th>\n",
       "      <th>Open Datetime</th>\n",
       "      <th>Open Price</th>\n",
       "      <th>Close Datetime</th>\n",
       "      <th>Close Price</th>\n",
       "      <th>Closing Time</th>\n",
       "      <th>Type</th>\n",
       "      <th>...</th>\n",
       "      <th>Commission</th>\n",
       "      <th>Open Date</th>\n",
       "      <th>Open Hour</th>\n",
       "      <th>Open Day</th>\n",
       "      <th>Open Datetime Seconds</th>\n",
       "      <th>Close Date</th>\n",
       "      <th>Close Hour</th>\n",
       "      <th>Close Day</th>\n",
       "      <th>Close Datetime Seconds</th>\n",
       "      <th>Duration</th>\n",
       "    </tr>\n",
       "  </thead>\n",
       "  <tbody>\n",
       "    <tr>\n",
       "      <th>0</th>\n",
       "      <td>3999.0</td>\n",
       "      <td>345</td>\n",
       "      <td>Kite Web</td>\n",
       "      <td>12:36:00</td>\n",
       "      <td>2019-04-01 12:23:00</td>\n",
       "      <td>13227.0</td>\n",
       "      <td>2019-05-04 12:23:00</td>\n",
       "      <td>16779.0</td>\n",
       "      <td>12:34:00</td>\n",
       "      <td>INFY</td>\n",
       "      <td>...</td>\n",
       "      <td>2861</td>\n",
       "      <td>2019-04-01</td>\n",
       "      <td>12</td>\n",
       "      <td>Monday</td>\n",
       "      <td>2019-04-01 12:23:00</td>\n",
       "      <td>2019-05-04</td>\n",
       "      <td>12</td>\n",
       "      <td>Saturday</td>\n",
       "      <td>2019-05-04 12:23:00</td>\n",
       "      <td>47520.0</td>\n",
       "    </tr>\n",
       "  </tbody>\n",
       "</table>\n",
       "<p>1 rows × 26 columns</p>\n",
       "</div>"
      ],
      "text/plain": [
       "   Ticket  Magic   Comment Open Time       Open Datetime  Open Price  \\\n",
       "0  3999.0    345  Kite Web  12:36:00 2019-04-01 12:23:00     13227.0   \n",
       "\n",
       "       Close Datetime  Close Price Closing Time  Type  ...  Commission  \\\n",
       "0 2019-05-04 12:23:00      16779.0     12:34:00  INFY  ...        2861   \n",
       "\n",
       "    Open Date  Open Hour  Open Day  Open Datetime Seconds  Close Date  \\\n",
       "0  2019-04-01         12    Monday    2019-04-01 12:23:00  2019-05-04   \n",
       "\n",
       "   Close Hour Close Day  Close Datetime Seconds Duration  \n",
       "0          12  Saturday     2019-05-04 12:23:00  47520.0  \n",
       "\n",
       "[1 rows x 26 columns]"
      ]
     },
     "execution_count": 28,
     "metadata": {},
     "output_type": "execute_result"
    }
   ],
   "source": [
    "df['Duration'] = (df['Close Datetime'] - df['Open Datetime'])\n",
    "df['Duration'] = df['Duration'].apply(lambda x: x.total_seconds() / 60)\n",
    "df.head(1)"
   ]
  },
  {
   "cell_type": "markdown",
   "metadata": {},
   "source": [
    "### Now I create a new column that is equall to the net profit from a trade."
   ]
  },
  {
   "cell_type": "code",
   "execution_count": 29,
   "metadata": {},
   "outputs": [
    {
     "data": {
      "text/plain": [
       "0       2907\n",
       "1       2711\n",
       "2       2537\n",
       "3       2833\n",
       "4       3804\n",
       "        ... \n",
       "1134      23\n",
       "1135      37\n",
       "1136    3678\n",
       "1137    3996\n",
       "1138    3253\n",
       "Name: Profit, Length: 1139, dtype: int64"
      ]
     },
     "execution_count": 29,
     "metadata": {},
     "output_type": "execute_result"
    }
   ],
   "source": [
    "df['Profit'] = df['Profit'] + df['Swap'] + df['Commission']\n",
    "df['Profit']"
   ]
  },
  {
   "cell_type": "markdown",
   "metadata": {},
   "source": [
    "### I need a 'Profit Per Lot' column because different trades have different lot sizes."
   ]
  },
  {
   "cell_type": "code",
   "execution_count": 30,
   "metadata": {},
   "outputs": [
    {
     "data": {
      "text/plain": [
       "0    2907.0\n",
       "Name: Profit Per Lot, dtype: float64"
      ]
     },
     "execution_count": 30,
     "metadata": {},
     "output_type": "execute_result"
    }
   ],
   "source": [
    "df['Profit Per Lot'] = df['Profit'] / ( df['Lots'] / 0.01)\n",
    "\n",
    "df['Profit Per Lot'].head(1)"
   ]
  },
  {
   "cell_type": "markdown",
   "metadata": {},
   "source": [
    "#### I add two columns to describe the direction of a trade."
   ]
  },
  {
   "cell_type": "code",
   "execution_count": 31,
   "metadata": {},
   "outputs": [],
   "source": [
    "df['Order Type'] = df['Type'].apply(lambda x: \"Buy\" if x == 0 else \"Sell\")\n",
    "df['Direction'] = df['Type'].apply(lambda x: 1 if x == 0 else -1)"
   ]
  },
  {
   "cell_type": "markdown",
   "metadata": {},
   "source": [
    "#### _I extract the reason why a trade was closed from the 'Comment' column. The reason for closure is added by my broker to the end of my comment_:"
   ]
  },
  {
   "cell_type": "code",
   "execution_count": 32,
   "metadata": {},
   "outputs": [
    {
     "data": {
      "text/plain": [
       "'Kite Web'"
      ]
     },
     "execution_count": 32,
     "metadata": {},
     "output_type": "execute_result"
    }
   ],
   "source": [
    "df['Comment'][0]"
   ]
  },
  {
   "cell_type": "markdown",
   "metadata": {},
   "source": [
    "In order to extract the reason for closure I search for specific strings in the comment."
   ]
  },
  {
   "cell_type": "code",
   "execution_count": 33,
   "metadata": {},
   "outputs": [],
   "source": [
    "df['Stop Loss Hit'] = df['Comment'].apply(lambda x: 1 if \"[[sl]]\" in x else 0)\n",
    "df['Take Profit Hit'] = df['Comment'].apply(lambda x: 1 if \"[[tp]]\" in x else 0)"
   ]
  },
  {
   "cell_type": "markdown",
   "metadata": {},
   "source": [
    "#### I calculate the difference between the 'Take profit' and the 'Stop loss' columns. I define a helper function first :"
   ]
  },
  {
   "cell_type": "markdown",
   "metadata": {},
   "source": [
    "It is then applied to a subset of the original data."
   ]
  },
  {
   "cell_type": "code",
   "execution_count": 34,
   "metadata": {},
   "outputs": [
    {
     "data": {
      "text/html": [
       "<div>\n",
       "<style scoped>\n",
       "    .dataframe tbody tr th:only-of-type {\n",
       "        vertical-align: middle;\n",
       "    }\n",
       "\n",
       "    .dataframe tbody tr th {\n",
       "        vertical-align: top;\n",
       "    }\n",
       "\n",
       "    .dataframe thead th {\n",
       "        text-align: right;\n",
       "    }\n",
       "</style>\n",
       "<table border=\"1\" class=\"dataframe\">\n",
       "  <thead>\n",
       "    <tr style=\"text-align: right;\">\n",
       "      <th></th>\n",
       "      <th>Ticket</th>\n",
       "      <th>Magic</th>\n",
       "      <th>Comment</th>\n",
       "      <th>Open Time</th>\n",
       "      <th>Open Datetime</th>\n",
       "      <th>Open Price</th>\n",
       "      <th>Close Datetime</th>\n",
       "      <th>Close Price</th>\n",
       "      <th>Closing Time</th>\n",
       "      <th>Type</th>\n",
       "      <th>...</th>\n",
       "      <th>Close Date</th>\n",
       "      <th>Close Hour</th>\n",
       "      <th>Close Day</th>\n",
       "      <th>Close Datetime Seconds</th>\n",
       "      <th>Duration</th>\n",
       "      <th>Profit Per Lot</th>\n",
       "      <th>Order Type</th>\n",
       "      <th>Direction</th>\n",
       "      <th>Stop Loss Hit</th>\n",
       "      <th>Take Profit Hit</th>\n",
       "    </tr>\n",
       "  </thead>\n",
       "  <tbody>\n",
       "    <tr>\n",
       "      <th>0</th>\n",
       "      <td>3999.0</td>\n",
       "      <td>345</td>\n",
       "      <td>Kite Web</td>\n",
       "      <td>12:36:00</td>\n",
       "      <td>2019-04-01 12:23:00</td>\n",
       "      <td>13227.0</td>\n",
       "      <td>2019-05-04 12:23:00</td>\n",
       "      <td>16779.0</td>\n",
       "      <td>12:34:00</td>\n",
       "      <td>INFY</td>\n",
       "      <td>...</td>\n",
       "      <td>2019-05-04</td>\n",
       "      <td>12</td>\n",
       "      <td>Saturday</td>\n",
       "      <td>2019-05-04 12:23:00</td>\n",
       "      <td>47520.0</td>\n",
       "      <td>2907.0</td>\n",
       "      <td>Sell</td>\n",
       "      <td>-1</td>\n",
       "      <td>0</td>\n",
       "      <td>0</td>\n",
       "    </tr>\n",
       "  </tbody>\n",
       "</table>\n",
       "<p>1 rows × 31 columns</p>\n",
       "</div>"
      ],
      "text/plain": [
       "   Ticket  Magic   Comment Open Time       Open Datetime  Open Price  \\\n",
       "0  3999.0    345  Kite Web  12:36:00 2019-04-01 12:23:00     13227.0   \n",
       "\n",
       "       Close Datetime  Close Price Closing Time  Type  ...  Close Date  \\\n",
       "0 2019-05-04 12:23:00      16779.0     12:34:00  INFY  ...  2019-05-04   \n",
       "\n",
       "  Close Hour  Close Day  Close Datetime Seconds  Duration  Profit Per Lot  \\\n",
       "0         12   Saturday     2019-05-04 12:23:00   47520.0          2907.0   \n",
       "\n",
       "   Order Type Direction  Stop Loss Hit Take Profit Hit  \n",
       "0        Sell        -1              0               0  \n",
       "\n",
       "[1 rows x 31 columns]"
      ]
     },
     "execution_count": 34,
     "metadata": {},
     "output_type": "execute_result"
    }
   ],
   "source": [
    "df['Stop Loss'] = [random.randint(1,5) for i in range (1139)]\n",
    "df['Take Profit'] = [random.randint(1,5)for i in range (1139)]\n",
    "df.head(1)"
   ]
  },
  {
   "cell_type": "markdown",
   "metadata": {},
   "source": [
    "## there are so many additional columns added, we dont have any use of them so, im dropping those columns for better representation of data analysis.\n",
    "\n",
    "I delete unwanted columns:\n",
    "\n",
    "* Ticket - Generated by the broker for their internal purposes.\n",
    "* Commission - Constant column equall to zero.\n",
    "* Comment - Information was extracted.\n",
    "* Type - Information was extracted.\n",
    "* Take Profit - Information was extracted and is not relevant to this analysis.\n",
    "* Stop Loss - Information was extracted and is not relevant to this analysis."
   ]
  },
  {
   "cell_type": "code",
   "execution_count": 35,
   "metadata": {},
   "outputs": [],
   "source": [
    "unwanted = ['Ticket', \n",
    "            'Commission',             \n",
    "            'Comment', \n",
    "            'Type', \n",
    "            'Take Profit', \n",
    "            'Stop Loss']\n",
    "\n",
    "df.drop(unwanted, axis=1, inplace=True)"
   ]
  },
  {
   "cell_type": "code",
   "execution_count": 52,
   "metadata": {},
   "outputs": [
    {
     "data": {
      "text/html": [
       "<div>\n",
       "<style scoped>\n",
       "    .dataframe tbody tr th:only-of-type {\n",
       "        vertical-align: middle;\n",
       "    }\n",
       "\n",
       "    .dataframe tbody tr th {\n",
       "        vertical-align: top;\n",
       "    }\n",
       "\n",
       "    .dataframe thead th {\n",
       "        text-align: right;\n",
       "    }\n",
       "</style>\n",
       "<table border=\"1\" class=\"dataframe\">\n",
       "  <thead>\n",
       "    <tr style=\"text-align: right;\">\n",
       "      <th></th>\n",
       "      <th>Magic</th>\n",
       "      <th>Open Time</th>\n",
       "      <th>Open Datetime</th>\n",
       "      <th>Open Price</th>\n",
       "      <th>Close Datetime</th>\n",
       "      <th>Close Price</th>\n",
       "      <th>Closing Time</th>\n",
       "      <th>Lots</th>\n",
       "      <th>Symbol</th>\n",
       "      <th>Profit</th>\n",
       "      <th>...</th>\n",
       "      <th>Open Date</th>\n",
       "      <th>Open Hour</th>\n",
       "      <th>Open Day</th>\n",
       "      <th>Open Datetime Seconds</th>\n",
       "      <th>Close Date</th>\n",
       "      <th>Close Hour</th>\n",
       "      <th>Close Day</th>\n",
       "      <th>Close Datetime Seconds</th>\n",
       "      <th>Duration</th>\n",
       "      <th>Profit Per Lot</th>\n",
       "    </tr>\n",
       "  </thead>\n",
       "  <tbody>\n",
       "    <tr>\n",
       "      <th>0</th>\n",
       "      <td>345</td>\n",
       "      <td>12:36:00</td>\n",
       "      <td>2019-04-01 12:23:00</td>\n",
       "      <td>13227.0</td>\n",
       "      <td>2019-05-04 12:23:00</td>\n",
       "      <td>16779.0</td>\n",
       "      <td>12:34:00</td>\n",
       "      <td>0.01</td>\n",
       "      <td>EURUSD</td>\n",
       "      <td>2907</td>\n",
       "      <td>...</td>\n",
       "      <td>2019-04-01</td>\n",
       "      <td>12</td>\n",
       "      <td>Monday</td>\n",
       "      <td>2019-04-01 12:23:00</td>\n",
       "      <td>2019-05-04</td>\n",
       "      <td>12</td>\n",
       "      <td>Saturday</td>\n",
       "      <td>2019-05-04 12:23:00</td>\n",
       "      <td>47520.0</td>\n",
       "      <td>2907.0</td>\n",
       "    </tr>\n",
       "    <tr>\n",
       "      <th>1</th>\n",
       "      <td>136</td>\n",
       "      <td>01:44:00</td>\n",
       "      <td>2019-04-02 01:34:00</td>\n",
       "      <td>11163.0</td>\n",
       "      <td>2019-01-06 01:34:00</td>\n",
       "      <td>17657.0</td>\n",
       "      <td>08:23:00</td>\n",
       "      <td>0.01</td>\n",
       "      <td>AUDCAD</td>\n",
       "      <td>2711</td>\n",
       "      <td>...</td>\n",
       "      <td>2019-04-02</td>\n",
       "      <td>1</td>\n",
       "      <td>Tuesday</td>\n",
       "      <td>2019-04-02 01:34:00</td>\n",
       "      <td>2019-01-06</td>\n",
       "      <td>1</td>\n",
       "      <td>Sunday</td>\n",
       "      <td>2019-01-06 01:34:00</td>\n",
       "      <td>-123840.0</td>\n",
       "      <td>2711.0</td>\n",
       "    </tr>\n",
       "  </tbody>\n",
       "</table>\n",
       "<p>2 rows × 21 columns</p>\n",
       "</div>"
      ],
      "text/plain": [
       "   Magic Open Time       Open Datetime  Open Price      Close Datetime  \\\n",
       "0    345  12:36:00 2019-04-01 12:23:00     13227.0 2019-05-04 12:23:00   \n",
       "1    136  01:44:00 2019-04-02 01:34:00     11163.0 2019-01-06 01:34:00   \n",
       "\n",
       "   Close Price Closing Time  Lots   Symbol  Profit  ...   Open Date Open Hour  \\\n",
       "0      16779.0     12:34:00  0.01  EURUSD     2907  ...  2019-04-01        12   \n",
       "1      17657.0     08:23:00  0.01  AUDCAD     2711  ...  2019-04-02         1   \n",
       "\n",
       "   Open Day Open Datetime Seconds  Close Date Close Hour  Close Day  \\\n",
       "0    Monday   2019-04-01 12:23:00  2019-05-04         12   Saturday   \n",
       "1   Tuesday   2019-04-02 01:34:00  2019-01-06          1     Sunday   \n",
       "\n",
       "  Close Datetime Seconds  Duration  Profit Per Lot  \n",
       "0    2019-05-04 12:23:00   47520.0          2907.0  \n",
       "1    2019-01-06 01:34:00 -123840.0          2711.0  \n",
       "\n",
       "[2 rows x 21 columns]"
      ]
     },
     "execution_count": 52,
     "metadata": {},
     "output_type": "execute_result"
    }
   ],
   "source": [
    "df.head(2)"
   ]
  },
  {
   "cell_type": "markdown",
   "metadata": {},
   "source": [
    "### after dropping few unnecessary columns, there's 21 columns left "
   ]
  },
  {
   "cell_type": "code",
   "execution_count": 53,
   "metadata": {},
   "outputs": [
    {
     "data": {
      "text/plain": [
       "(1139, 21)"
      ]
     },
     "execution_count": 53,
     "metadata": {},
     "output_type": "execute_result"
    }
   ],
   "source": [
    "df.shape"
   ]
  },
  {
   "cell_type": "code",
   "execution_count": 30,
   "metadata": {},
   "outputs": [
    {
     "data": {
      "text/html": [
       "<div>\n",
       "<style scoped>\n",
       "    .dataframe tbody tr th:only-of-type {\n",
       "        vertical-align: middle;\n",
       "    }\n",
       "\n",
       "    .dataframe tbody tr th {\n",
       "        vertical-align: top;\n",
       "    }\n",
       "\n",
       "    .dataframe thead th {\n",
       "        text-align: right;\n",
       "    }\n",
       "</style>\n",
       "<table border=\"1\" class=\"dataframe\">\n",
       "  <thead>\n",
       "    <tr style=\"text-align: right;\">\n",
       "      <th></th>\n",
       "      <th>Magic</th>\n",
       "      <th>Open Datetime</th>\n",
       "      <th>Open Price</th>\n",
       "      <th>Close Datetime</th>\n",
       "      <th>Close Price</th>\n",
       "      <th>Lots</th>\n",
       "      <th>Symbol</th>\n",
       "      <th>Profit</th>\n",
       "      <th>Swap</th>\n",
       "      <th>Open Date</th>\n",
       "      <th>...</th>\n",
       "      <th>Close Hour</th>\n",
       "      <th>Close Day</th>\n",
       "      <th>Close Datetime Seconds</th>\n",
       "      <th>Duration</th>\n",
       "      <th>Profit Per Lot</th>\n",
       "      <th>Order Type</th>\n",
       "      <th>Direction</th>\n",
       "      <th>Stop Loss Hit</th>\n",
       "      <th>Take Profit Hit</th>\n",
       "      <th>Stops Distance</th>\n",
       "    </tr>\n",
       "  </thead>\n",
       "  <tbody>\n",
       "    <tr>\n",
       "      <th>0</th>\n",
       "      <td>4444</td>\n",
       "      <td>2020-05-19 11:31:00</td>\n",
       "      <td>1.09543</td>\n",
       "      <td>2020-05-19 11:39:00</td>\n",
       "      <td>1.09538</td>\n",
       "      <td>0.01</td>\n",
       "      <td>EURUSD</td>\n",
       "      <td>0.21</td>\n",
       "      <td>0.0</td>\n",
       "      <td>2020-05-19</td>\n",
       "      <td>...</td>\n",
       "      <td>11</td>\n",
       "      <td>Tuesday</td>\n",
       "      <td>1589888340000000000</td>\n",
       "      <td>8.0</td>\n",
       "      <td>0.21</td>\n",
       "      <td>Sell</td>\n",
       "      <td>-1</td>\n",
       "      <td>1</td>\n",
       "      <td>0</td>\n",
       "      <td>0.457634</td>\n",
       "    </tr>\n",
       "    <tr>\n",
       "      <th>1</th>\n",
       "      <td>4444</td>\n",
       "      <td>2020-05-19 12:17:00</td>\n",
       "      <td>1.09548</td>\n",
       "      <td>2020-05-19 12:23:00</td>\n",
       "      <td>1.09539</td>\n",
       "      <td>0.01</td>\n",
       "      <td>EURUSD</td>\n",
       "      <td>0.38</td>\n",
       "      <td>0.0</td>\n",
       "      <td>2020-05-19</td>\n",
       "      <td>...</td>\n",
       "      <td>12</td>\n",
       "      <td>Tuesday</td>\n",
       "      <td>1589890980000000000</td>\n",
       "      <td>6.0</td>\n",
       "      <td>0.38</td>\n",
       "      <td>Sell</td>\n",
       "      <td>-1</td>\n",
       "      <td>1</td>\n",
       "      <td>0</td>\n",
       "      <td>0.452107</td>\n",
       "    </tr>\n",
       "    <tr>\n",
       "      <th>2</th>\n",
       "      <td>4444</td>\n",
       "      <td>2020-05-19 17:40:00</td>\n",
       "      <td>1.09250</td>\n",
       "      <td>2020-05-19 21:59:00</td>\n",
       "      <td>1.09257</td>\n",
       "      <td>0.01</td>\n",
       "      <td>EURUSD</td>\n",
       "      <td>0.30</td>\n",
       "      <td>0.0</td>\n",
       "      <td>2020-05-19</td>\n",
       "      <td>...</td>\n",
       "      <td>21</td>\n",
       "      <td>Tuesday</td>\n",
       "      <td>1589925540000000000</td>\n",
       "      <td>259.0</td>\n",
       "      <td>0.30</td>\n",
       "      <td>Buy</td>\n",
       "      <td>1</td>\n",
       "      <td>1</td>\n",
       "      <td>0</td>\n",
       "      <td>0.908866</td>\n",
       "    </tr>\n",
       "    <tr>\n",
       "      <th>3</th>\n",
       "      <td>4444</td>\n",
       "      <td>2020-05-20 13:03:00</td>\n",
       "      <td>1.09569</td>\n",
       "      <td>2020-05-20 13:20:00</td>\n",
       "      <td>1.09557</td>\n",
       "      <td>0.01</td>\n",
       "      <td>EURUSD</td>\n",
       "      <td>0.50</td>\n",
       "      <td>0.0</td>\n",
       "      <td>2020-05-20</td>\n",
       "      <td>...</td>\n",
       "      <td>13</td>\n",
       "      <td>Wednesday</td>\n",
       "      <td>1589980800000000000</td>\n",
       "      <td>17.0</td>\n",
       "      <td>0.50</td>\n",
       "      <td>Sell</td>\n",
       "      <td>-1</td>\n",
       "      <td>1</td>\n",
       "      <td>0</td>\n",
       "      <td>0.452949</td>\n",
       "    </tr>\n",
       "    <tr>\n",
       "      <th>4</th>\n",
       "      <td>4444</td>\n",
       "      <td>2020-05-20 13:57:00</td>\n",
       "      <td>1.09630</td>\n",
       "      <td>2020-05-20 14:29:00</td>\n",
       "      <td>1.09628</td>\n",
       "      <td>0.01</td>\n",
       "      <td>EURUSD</td>\n",
       "      <td>0.09</td>\n",
       "      <td>0.0</td>\n",
       "      <td>2020-05-20</td>\n",
       "      <td>...</td>\n",
       "      <td>14</td>\n",
       "      <td>Wednesday</td>\n",
       "      <td>1589984940000000000</td>\n",
       "      <td>32.0</td>\n",
       "      <td>0.09</td>\n",
       "      <td>Sell</td>\n",
       "      <td>-1</td>\n",
       "      <td>1</td>\n",
       "      <td>0</td>\n",
       "      <td>0.457257</td>\n",
       "    </tr>\n",
       "  </tbody>\n",
       "</table>\n",
       "<p>5 rows × 24 columns</p>\n",
       "</div>"
      ],
      "text/plain": [
       "   Magic       Open Datetime  Open Price      Close Datetime  Close Price  \\\n",
       "0   4444 2020-05-19 11:31:00     1.09543 2020-05-19 11:39:00      1.09538   \n",
       "1   4444 2020-05-19 12:17:00     1.09548 2020-05-19 12:23:00      1.09539   \n",
       "2   4444 2020-05-19 17:40:00     1.09250 2020-05-19 21:59:00      1.09257   \n",
       "3   4444 2020-05-20 13:03:00     1.09569 2020-05-20 13:20:00      1.09557   \n",
       "4   4444 2020-05-20 13:57:00     1.09630 2020-05-20 14:29:00      1.09628   \n",
       "\n",
       "   Lots  Symbol  Profit  Swap   Open Date  ...  Close Hour  Close Day  \\\n",
       "0  0.01  EURUSD    0.21   0.0  2020-05-19  ...          11    Tuesday   \n",
       "1  0.01  EURUSD    0.38   0.0  2020-05-19  ...          12    Tuesday   \n",
       "2  0.01  EURUSD    0.30   0.0  2020-05-19  ...          21    Tuesday   \n",
       "3  0.01  EURUSD    0.50   0.0  2020-05-20  ...          13  Wednesday   \n",
       "4  0.01  EURUSD    0.09   0.0  2020-05-20  ...          14  Wednesday   \n",
       "\n",
       "   Close Datetime Seconds Duration  Profit Per Lot Order Type  Direction  \\\n",
       "0     1589888340000000000      8.0            0.21       Sell         -1   \n",
       "1     1589890980000000000      6.0            0.38       Sell         -1   \n",
       "2     1589925540000000000    259.0            0.30        Buy          1   \n",
       "3     1589980800000000000     17.0            0.50       Sell         -1   \n",
       "4     1589984940000000000     32.0            0.09       Sell         -1   \n",
       "\n",
       "   Stop Loss Hit  Take Profit Hit Stops Distance  \n",
       "0              1                0       0.457634  \n",
       "1              1                0       0.452107  \n",
       "2              1                0       0.908866  \n",
       "3              1                0       0.452949  \n",
       "4              1                0       0.457257  \n",
       "\n",
       "[5 rows x 24 columns]"
      ]
     },
     "execution_count": 30,
     "metadata": {},
     "output_type": "execute_result"
    }
   ],
   "source": [
    "df.head()      # The clean data looks like this"
   ]
  },
  {
   "attachments": {},
   "cell_type": "markdown",
   "metadata": {},
   "source": [
    "### I'm going to start the analysis by computing basic statistics the should interest any algorithmic trade\n"
   ]
  },
  {
   "cell_type": "code",
   "execution_count": 54,
   "metadata": {},
   "outputs": [
    {
     "data": {
      "text/plain": [
       "'2019-04-01'"
      ]
     },
     "execution_count": 54,
     "metadata": {},
     "output_type": "execute_result"
    }
   ],
   "source": [
    "start = df['Open Date'].min()\n",
    "str(start)"
   ]
  },
  {
   "cell_type": "markdown",
   "metadata": {},
   "source": [
    "The last trade in the data was closed on:"
   ]
  },
  {
   "cell_type": "code",
   "execution_count": 55,
   "metadata": {},
   "outputs": [
    {
     "data": {
      "text/plain": [
       "'2019-05-04'"
      ]
     },
     "execution_count": 55,
     "metadata": {},
     "output_type": "execute_result"
    }
   ],
   "source": [
    "stop = df['Close Date'].max()\n",
    "str(stop)"
   ]
  },
  {
   "cell_type": "markdown",
   "metadata": {},
   "source": [
    "That means the algorithms traded for nearly a month."
   ]
  },
  {
   "cell_type": "code",
   "execution_count": 56,
   "metadata": {},
   "outputs": [
    {
     "data": {
      "text/plain": [
       "'33 days, 0:00:00'"
      ]
     },
     "execution_count": 56,
     "metadata": {},
     "output_type": "execute_result"
    }
   ],
   "source": [
    "str(stop - start)"
   ]
  },
  {
   "cell_type": "markdown",
   "metadata": {},
   "source": [
    "Trades over the period in question:"
   ]
  },
  {
   "cell_type": "code",
   "execution_count": 57,
   "metadata": {},
   "outputs": [
    {
     "data": {
      "text/plain": [
       "1139"
      ]
     },
     "execution_count": 57,
     "metadata": {},
     "output_type": "execute_result"
    }
   ],
   "source": [
    "df.shape[0]"
   ]
  },
  {
   "cell_type": "markdown",
   "metadata": {},
   "source": [
    "# Calculating Profit\n",
    "\n",
    "#### Total profit\n",
    "\n",
    "Over the period in question the algorithms achieved a profit of:"
   ]
  },
  {
   "cell_type": "code",
   "execution_count": 39,
   "metadata": {},
   "outputs": [
    {
     "data": {
      "text/plain": [
       "3223025"
      ]
     },
     "execution_count": 39,
     "metadata": {},
     "output_type": "execute_result"
    }
   ],
   "source": [
    "np.round(df['Profit'].sum(),2) "
   ]
  },
  {
   "cell_type": "markdown",
   "metadata": {},
   "source": [
    "## Total profit by market\n",
    "\n",
    "As can be seen the bulk of the profit comes from 'USDCHF'."
   ]
  },
  {
   "cell_type": "code",
   "execution_count": 38,
   "metadata": {},
   "outputs": [
    {
     "data": {
      "image/png": "[encoded data removed]",
      "text/plain": [
       "<Figure size 1400x400 with 1 Axes>"
      ]
     },
     "metadata": {},
     "output_type": "display_data"
    }
   ],
   "source": [
    "# showing profit using bar chart\n",
    "\n",
    "\n",
    "df_symbol = df[['Symbol', 'Profit']].groupby(['Symbol'], as_index=False).sum()\n",
    "\n",
    "plt.figure(figsize= [ 14, 4])\n",
    "plt.bar(df_symbol['Symbol'], df_symbol['Profit'])\n",
    "plt.xticks(df_symbol['Symbol'], rotation=90)\n",
    "plt.ylabel('Profit (zł)')\n",
    "plt.xlabel('Symbol')\n",
    "plt.show()\n"
   ]
  },
  {
   "cell_type": "markdown",
   "metadata": {},
   "source": [
    "\n",
    "### The most money was made by shorting __'USDINR'__. The most money was lost buying '__GBPJPY__'."
   ]
  },
  {
   "cell_type": "markdown",
   "metadata": {},
   "source": [
    "### Total profit by market and trade direction"
   ]
  },
  {
   "cell_type": "code",
   "execution_count": 37,
   "metadata": {},
   "outputs": [
    {
     "data": {
      "text/plain": [
       "Index(['Magic', 'Open Time', 'Open Datetime', 'Open Price', 'Close Datetime',\n",
       "       'Close Price', 'Closing Time', 'Lots', 'Symbol', 'Profit', 'Swap',\n",
       "       'Open Date', 'Open Hour', 'Open Day', 'Open Datetime Seconds',\n",
       "       'Close Date', 'Close Hour', 'Close Day', 'Close Datetime Seconds',\n",
       "       'Duration', 'Profit Per Lot', 'Order Type', 'Direction',\n",
       "       'Stop Loss Hit', 'Take Profit Hit'],\n",
       "      dtype='object')"
      ]
     },
     "execution_count": 37,
     "metadata": {},
     "output_type": "execute_result"
    }
   ],
   "source": [
    "df.columns"
   ]
  },
  {
   "cell_type": "code",
   "execution_count": 36,
   "metadata": {},
   "outputs": [
    {
     "data": {
      "text/html": [
       "<div>\n",
       "<style scoped>\n",
       "    .dataframe tbody tr th:only-of-type {\n",
       "        vertical-align: middle;\n",
       "    }\n",
       "\n",
       "    .dataframe tbody tr th {\n",
       "        vertical-align: top;\n",
       "    }\n",
       "\n",
       "    .dataframe thead th {\n",
       "        text-align: right;\n",
       "    }\n",
       "</style>\n",
       "<table border=\"1\" class=\"dataframe\">\n",
       "  <thead>\n",
       "    <tr style=\"text-align: right;\">\n",
       "      <th></th>\n",
       "      <th>Symbol</th>\n",
       "      <th>Close Day</th>\n",
       "      <th>Number of Trades</th>\n",
       "      <th>Profit</th>\n",
       "    </tr>\n",
       "  </thead>\n",
       "  <tbody>\n",
       "    <tr>\n",
       "      <th>64</th>\n",
       "      <td>USDINR</td>\n",
       "      <td>Saturday</td>\n",
       "      <td>443433434.0</td>\n",
       "      <td>322529</td>\n",
       "    </tr>\n",
       "    <tr>\n",
       "      <th>44</th>\n",
       "      <td>EURUSD</td>\n",
       "      <td>Saturday</td>\n",
       "      <td>285317006.0</td>\n",
       "      <td>278880</td>\n",
       "    </tr>\n",
       "    <tr>\n",
       "      <th>45</th>\n",
       "      <td>EURUSD</td>\n",
       "      <td>Sunday</td>\n",
       "      <td>433804750.0</td>\n",
       "      <td>270169</td>\n",
       "    </tr>\n",
       "    <tr>\n",
       "      <th>65</th>\n",
       "      <td>USDINR</td>\n",
       "      <td>Sunday</td>\n",
       "      <td>338978078.0</td>\n",
       "      <td>266110</td>\n",
       "    </tr>\n",
       "    <tr>\n",
       "      <th>3</th>\n",
       "      <td>AUDCAD</td>\n",
       "      <td>Sunday</td>\n",
       "      <td>126678508.0</td>\n",
       "      <td>116780</td>\n",
       "    </tr>\n",
       "    <tr>\n",
       "      <th>...</th>\n",
       "      <td>...</td>\n",
       "      <td>...</td>\n",
       "      <td>...</td>\n",
       "      <td>...</td>\n",
       "    </tr>\n",
       "    <tr>\n",
       "      <th>50</th>\n",
       "      <td>GBPJPY</td>\n",
       "      <td>Monday</td>\n",
       "      <td>41935680.0</td>\n",
       "      <td>2438</td>\n",
       "    </tr>\n",
       "    <tr>\n",
       "      <th>53</th>\n",
       "      <td>GBPJPY</td>\n",
       "      <td>Thursday</td>\n",
       "      <td>3722400.0</td>\n",
       "      <td>2394</td>\n",
       "    </tr>\n",
       "    <tr>\n",
       "      <th>36</th>\n",
       "      <td>ETHUSDT ether</td>\n",
       "      <td>Monday</td>\n",
       "      <td>51484320.0</td>\n",
       "      <td>2084</td>\n",
       "    </tr>\n",
       "    <tr>\n",
       "      <th>25</th>\n",
       "      <td>CL</td>\n",
       "      <td>Thursday</td>\n",
       "      <td>21201120.0</td>\n",
       "      <td>2065</td>\n",
       "    </tr>\n",
       "    <tr>\n",
       "      <th>49</th>\n",
       "      <td>GBPJPY</td>\n",
       "      <td>Friday</td>\n",
       "      <td>10405440.0</td>\n",
       "      <td>39</td>\n",
       "    </tr>\n",
       "  </tbody>\n",
       "</table>\n",
       "<p>83 rows × 4 columns</p>\n",
       "</div>"
      ],
      "text/plain": [
       "           Symbol Close Day  Number of Trades  Profit\n",
       "64        USDINR   Saturday       443433434.0  322529\n",
       "44        EURUSD   Saturday       285317006.0  278880\n",
       "45        EURUSD     Sunday       433804750.0  270169\n",
       "65        USDINR     Sunday       338978078.0  266110\n",
       "3         AUDCAD     Sunday       126678508.0  116780\n",
       "..            ...       ...               ...     ...\n",
       "50         GBPJPY    Monday        41935680.0    2438\n",
       "53         GBPJPY  Thursday         3722400.0    2394\n",
       "36  ETHUSDT ether    Monday        51484320.0    2084\n",
       "25            CL   Thursday        21201120.0    2065\n",
       "49         GBPJPY    Friday        10405440.0      39\n",
       "\n",
       "[83 rows x 4 columns]"
      ]
     },
     "execution_count": 36,
     "metadata": {},
     "output_type": "execute_result"
    }
   ],
   "source": [
    "df_mkt = df[['Symbol', 'Close Day', 'Duration', 'Profit']]\n",
    "\n",
    "df_mkt = df_mkt.groupby(['Symbol', 'Close Day'], as_index=False).agg({\n",
    "    'Duration': 'sum',\n",
    "    'Profit': 'sum' })\n",
    "\n",
    "df_mkt['Duration'] = np.abs(df_mkt['Duration'])    # converting into postive using abs\n",
    "\n",
    "df_mkt = df_mkt.rename(columns={\"Duration\": \"Number of Trades\"})        # Renaming Duration column\n",
    "\n",
    "df_mkt = df_mkt.sort_values('Profit', ascending=False)           # Sort by Profit : asc\n",
    "\n",
    "df_mkt       # calling\n"
   ]
  },
  {
   "cell_type": "markdown",
   "metadata": {},
   "source": [
    "## Best days\n",
    "The 3 best days were :"
   ]
  },
  {
   "cell_type": "code",
   "execution_count": 40,
   "metadata": {},
   "outputs": [
    {
     "data": {
      "text/html": [
       "<div>\n",
       "<style scoped>\n",
       "    .dataframe tbody tr th:only-of-type {\n",
       "        vertical-align: middle;\n",
       "    }\n",
       "\n",
       "    .dataframe tbody tr th {\n",
       "        vertical-align: top;\n",
       "    }\n",
       "\n",
       "    .dataframe thead th {\n",
       "        text-align: right;\n",
       "    }\n",
       "</style>\n",
       "<table border=\"1\" class=\"dataframe\">\n",
       "  <thead>\n",
       "    <tr style=\"text-align: right;\">\n",
       "      <th></th>\n",
       "      <th>Close Date</th>\n",
       "      <th>Profit</th>\n",
       "    </tr>\n",
       "  </thead>\n",
       "  <tbody>\n",
       "    <tr>\n",
       "      <th>364</th>\n",
       "      <td>2019-05-04</td>\n",
       "      <td>1096800</td>\n",
       "    </tr>\n",
       "    <tr>\n",
       "      <th>363</th>\n",
       "      <td>2019-01-06</td>\n",
       "      <td>1093444</td>\n",
       "    </tr>\n",
       "    <tr>\n",
       "      <th>2</th>\n",
       "      <td>1901-12-10</td>\n",
       "      <td>12068</td>\n",
       "    </tr>\n",
       "  </tbody>\n",
       "</table>\n",
       "</div>"
      ],
      "text/plain": [
       "     Close Date   Profit\n",
       "364  2019-05-04  1096800\n",
       "363  2019-01-06  1093444\n",
       "2    1901-12-10    12068"
      ]
     },
     "execution_count": 40,
     "metadata": {},
     "output_type": "execute_result"
    }
   ],
   "source": [
    "df_cdate = df[['Close Date', 'Profit']].groupby(['Close Date'], as_index=False).sum()\n",
    "df_cdate.sort_values('Profit', ascending=False).head(3)"
   ]
  },
  {
   "cell_type": "markdown",
   "metadata": {},
   "source": [
    "## Worst days\n",
    "The worst 3 days were :"
   ]
  },
  {
   "cell_type": "code",
   "execution_count": 39,
   "metadata": {},
   "outputs": [
    {
     "data": {
      "text/html": [
       "<div>\n",
       "<style scoped>\n",
       "    .dataframe tbody tr th:only-of-type {\n",
       "        vertical-align: middle;\n",
       "    }\n",
       "\n",
       "    .dataframe tbody tr th {\n",
       "        vertical-align: top;\n",
       "    }\n",
       "\n",
       "    .dataframe thead th {\n",
       "        text-align: right;\n",
       "    }\n",
       "</style>\n",
       "<table border=\"1\" class=\"dataframe\">\n",
       "  <thead>\n",
       "    <tr style=\"text-align: right;\">\n",
       "      <th></th>\n",
       "      <th>Close Date</th>\n",
       "      <th>Profit</th>\n",
       "    </tr>\n",
       "  </thead>\n",
       "  <tbody>\n",
       "    <tr>\n",
       "      <th>17</th>\n",
       "      <td>2020-06-12</td>\n",
       "      <td>-87.14</td>\n",
       "    </tr>\n",
       "    <tr>\n",
       "      <th>13</th>\n",
       "      <td>2020-06-08</td>\n",
       "      <td>-64.77</td>\n",
       "    </tr>\n",
       "    <tr>\n",
       "      <th>4</th>\n",
       "      <td>2020-05-26</td>\n",
       "      <td>-32.51</td>\n",
       "    </tr>\n",
       "  </tbody>\n",
       "</table>\n",
       "</div>"
      ],
      "text/plain": [
       "    Close Date  Profit\n",
       "17  2020-06-12  -87.14\n",
       "13  2020-06-08  -64.77\n",
       "4   2020-05-26  -32.51"
      ]
     },
     "execution_count": 39,
     "metadata": {},
     "output_type": "execute_result"
    }
   ],
   "source": [
    "df_cdate.sort_values('Profit', ascending=True).head(3)"
   ]
  },
  {
   "cell_type": "markdown",
   "metadata": {},
   "source": [
    "### Costs\n",
    "\n",
    "Amount of swap paid :"
   ]
  },
  {
   "cell_type": "code",
   "execution_count": 41,
   "metadata": {},
   "outputs": [
    {
     "data": {
      "text/plain": [
       "38860"
      ]
     },
     "execution_count": 41,
     "metadata": {},
     "output_type": "execute_result"
    }
   ],
   "source": [
    "np.sum(df['Swap'])"
   ]
  },
  {
   "cell_type": "markdown",
   "metadata": {},
   "source": [
    "## Profit Per Lot\n",
    "Since the trades vary in lot size it makes more sense to look at 'Profit Per Lot' than at 'Profit'."
   ]
  },
  {
   "cell_type": "markdown",
   "metadata": {},
   "source": [
    "#### Profit Per Lot histogram\n",
    "As can be seen the distribution of 'Profit Per Lot' is nothing like a normal distribution:"
   ]
  },
  {
   "cell_type": "code",
   "execution_count": 42,
   "metadata": {},
   "outputs": [
    {
     "data": {
      "image/png": "[encoded data removed]",
      "text/plain": [
       "<Figure size 400x400 with 1 Axes>"
      ]
     },
     "metadata": {},
     "output_type": "display_data"
    }
   ],
   "source": [
    "width = 400\n",
    "height = 400\n",
    "dpi = 100\n",
    "\n",
    "plt.figure(figsize=(width/dpi, height/dpi))\n",
    "plt.hist(df['Profit Per Lot'])\n",
    "plt.ylabel('Frequency')\n",
    "plt.xlabel('Profit Per Lot (zł)')\n",
    "plt.title('Profit Per Lot histogram', fontsize=18)\n",
    "plt.tight_layout()\n",
    "plt.show()"
   ]
  },
  {
   "cell_type": "markdown",
   "metadata": {},
   "source": [
    "The mean of the distribution is :"
   ]
  },
  {
   "cell_type": "code",
   "execution_count": 43,
   "metadata": {},
   "outputs": [
    {
     "data": {
      "text/plain": [
       "2829.7"
      ]
     },
     "execution_count": 43,
     "metadata": {},
     "output_type": "execute_result"
    }
   ],
   "source": [
    "np.round(np.mean(df['Profit Per Lot']), 2)"
   ]
  },
  {
   "cell_type": "markdown",
   "metadata": {},
   "source": [
    "However the median is negative so the most frequent trades were small losses:"
   ]
  },
  {
   "cell_type": "code",
   "execution_count": 44,
   "metadata": {},
   "outputs": [
    {
     "data": {
      "text/plain": [
       "2975.0"
      ]
     },
     "execution_count": 44,
     "metadata": {},
     "output_type": "execute_result"
    }
   ],
   "source": [
    "np.round(np.quantile(df['Profit Per Lot'], 0.5), 2)"
   ]
  },
  {
   "cell_type": "markdown",
   "metadata": {},
   "source": [
    "Standard deviation is:"
   ]
  },
  {
   "cell_type": "code",
   "execution_count": 45,
   "metadata": {},
   "outputs": [
    {
     "data": {
      "text/plain": [
       "969.75"
      ]
     },
     "execution_count": 45,
     "metadata": {},
     "output_type": "execute_result"
    }
   ],
   "source": [
    "np.round(np.std(df['Profit Per Lot']), 2)"
   ]
  },
  {
   "cell_type": "markdown",
   "metadata": {},
   "source": [
    "Interquartile range:"
   ]
  },
  {
   "cell_type": "code",
   "execution_count": 46,
   "metadata": {},
   "outputs": [
    {
     "data": {
      "text/plain": [
       "1054.0"
      ]
     },
     "execution_count": 46,
     "metadata": {},
     "output_type": "execute_result"
    }
   ],
   "source": [
    "np.round(np.quantile(df['Profit Per Lot'], 0.75) - np.quantile(df['Profit Per Lot'], 0.25))"
   ]
  },
  {
   "cell_type": "markdown",
   "metadata": {},
   "source": [
    "The distribution exhibits positive skew of:"
   ]
  },
  {
   "cell_type": "code",
   "execution_count": 47,
   "metadata": {},
   "outputs": [
    {
     "data": {
      "text/plain": [
       "-1.6"
      ]
     },
     "execution_count": 47,
     "metadata": {},
     "output_type": "execute_result"
    }
   ],
   "source": [
    "np.round(skew(df['Profit Per Lot']), 2)"
   ]
  },
  {
   "cell_type": "markdown",
   "metadata": {},
   "source": [
    "The distribution is also leptokurtic: "
   ]
  },
  {
   "cell_type": "code",
   "execution_count": 85,
   "metadata": {},
   "outputs": [
    {
     "data": {
      "text/plain": [
       "2.57"
      ]
     },
     "execution_count": 85,
     "metadata": {},
     "output_type": "execute_result"
    }
   ],
   "source": [
    "np.round(kurtosis(df['Profit Per Lot']), 2)"
   ]
  },
  {
   "cell_type": "markdown",
   "metadata": {},
   "source": [
    "##### Comment\n",
    "This is to be expected given the design of the algorithms. They have a predifined maximum loss per trade (they will take small losses more frequently) but can hold winning trades for up to a week (hence the big wins)."
   ]
  },
  {
   "cell_type": "markdown",
   "metadata": {},
   "source": [
    "## Profit Per Lot by symbol\n",
    "Given the presence of outliers I think it is apropriate that for the rest of this section I analyze the median of 'Profit Per Lot'.<br>\n",
    "As can be seen by far the worst market was __'GBPJPY'__."
   ]
  },
  {
   "cell_type": "code",
   "execution_count": 48,
   "metadata": {},
   "outputs": [
    {
     "data": {
      "image/png": "[encoded data removed]",
      "text/plain": [
       "<Figure size 1500x400 with 1 Axes>"
      ]
     },
     "metadata": {},
     "output_type": "display_data"
    }
   ],
   "source": [
    "df_ppl = df[['Symbol', 'Profit Per Lot']].groupby(['Symbol'], as_index=False).quantile(0.5)\n",
    "df_ppl['Symbol'] = df_ppl['Symbol'].astype('str')\n",
    "\n",
    "plt.figure(figsize= [15,4])\n",
    "plt.bar(df_ppl['Symbol'], df_ppl['Profit Per Lot'])\n",
    "plt.xticks(df_ppl['Symbol'], rotation=90)\n",
    "plt.ylabel('Median Profit Per Lot (zł)')\n",
    "plt.xlabel('Symbol')\n",
    "plt.show()"
   ]
  },
  {
   "cell_type": "markdown",
   "metadata": {},
   "source": [
    "### Profit Per Lot by day of week\n",
    "As can be seen no particular day of the week is better for trading."
   ]
  },
  {
   "cell_type": "code",
   "execution_count": 49,
   "metadata": {},
   "outputs": [
    {
     "data": {
      "image/png": "[encoded data removed]",
      "text/plain": [
       "<Figure size 1000x300 with 1 Axes>"
      ]
     },
     "metadata": {},
     "output_type": "display_data"
    }
   ],
   "source": [
    "df_day = df[['Open Day', 'Profit Per Lot']].groupby(['Open Day'], as_index=False).quantile(0.5)\n",
    "df_day.rename(columns={\"Open Day\": \"Day Of Week\"}, inplace=True)\n",
    "\n",
    "plt.figure(figsize= [ 10,3])\n",
    "plt.bar(df_day['Day Of Week'], df_day['Profit Per Lot'])\n",
    "plt.xticks(df_day['Day Of Week'], rotation=90)\n",
    "plt.ylabel('Median Profit Per Lot (zł)')\n",
    "plt.xlabel('Day Of Week')\n",
    "plt.show()"
   ]
  },
  {
   "cell_type": "markdown",
   "metadata": {},
   "source": [
    "### Profit Per Lot by open hour\n",
    "The median profit per lot is positive for 2pm and 4pm. \n",
    "This is very interesting because:\n",
    "* Around 2pm typically macroeconomic news is released.\n",
    "* The european session closes at 5pm."
   ]
  },
  {
   "cell_type": "code",
   "execution_count": 50,
   "metadata": {},
   "outputs": [
    {
     "data": {
      "image/png": "[encoded data removed]",
      "text/plain": [
       "<Figure size 800x300 with 1 Axes>"
      ]
     },
     "metadata": {},
     "output_type": "display_data"
    }
   ],
   "source": [
    "df_hour = df[['Open Hour', 'Profit Per Lot']].groupby(['Open Hour'], as_index=False).quantile(0.5)\n",
    "df_hour.rename(columns={\"Open Hour\": \"Hour Of Day\"}, inplace=True)\n",
    "\n",
    "plt.figure(figsize= [8,3])\n",
    "plt.step(df_hour['Hour Of Day'], df_hour['Profit Per Lot'])\n",
    "plt.ylabel('Median Profit Per Lot (zł)')\n",
    "plt.xlabel('Hour Of Day')\n",
    "\n",
    "ax = plt.gca()\n",
    "ax.xaxis.set_major_locator(plt.MaxNLocator(integer=True))        \n",
    "\n",
    "plt.show()"
   ]
  },
  {
   "cell_type": "markdown",
   "metadata": {},
   "source": [
    "## Trades\n",
    "\n",
    "#### Best trades\n",
    "\n",
    "Here is a table with the 3 best trades."
   ]
  },
  {
   "cell_type": "code",
   "execution_count": 51,
   "metadata": {},
   "outputs": [
    {
     "data": {
      "text/html": [
       "<div>\n",
       "<style scoped>\n",
       "    .dataframe tbody tr th:only-of-type {\n",
       "        vertical-align: middle;\n",
       "    }\n",
       "\n",
       "    .dataframe tbody tr th {\n",
       "        vertical-align: top;\n",
       "    }\n",
       "\n",
       "    .dataframe thead th {\n",
       "        text-align: right;\n",
       "    }\n",
       "</style>\n",
       "<table border=\"1\" class=\"dataframe\">\n",
       "  <thead>\n",
       "    <tr style=\"text-align: right;\">\n",
       "      <th></th>\n",
       "      <th>Symbol</th>\n",
       "      <th>Profit Per Lot</th>\n",
       "      <th>Profit</th>\n",
       "    </tr>\n",
       "  </thead>\n",
       "  <tbody>\n",
       "    <tr>\n",
       "      <th>480</th>\n",
       "      <td>USDINR</td>\n",
       "      <td>4045.0</td>\n",
       "      <td>4045</td>\n",
       "    </tr>\n",
       "    <tr>\n",
       "      <th>486</th>\n",
       "      <td>XAGUSD</td>\n",
       "      <td>4039.0</td>\n",
       "      <td>4039</td>\n",
       "    </tr>\n",
       "    <tr>\n",
       "      <th>669</th>\n",
       "      <td>AUDCAD</td>\n",
       "      <td>4036.0</td>\n",
       "      <td>4036</td>\n",
       "    </tr>\n",
       "  </tbody>\n",
       "</table>\n",
       "</div>"
      ],
      "text/plain": [
       "      Symbol  Profit Per Lot  Profit\n",
       "480  USDINR           4045.0    4045\n",
       "486  XAGUSD           4039.0    4039\n",
       "669  AUDCAD           4036.0    4036"
      ]
     },
     "execution_count": 51,
     "metadata": {},
     "output_type": "execute_result"
    }
   ],
   "source": [
    "df[['Symbol', 'Profit Per Lot', 'Profit']].sort_values('Profit Per Lot', ascending=False).head(3)"
   ]
  },
  {
   "cell_type": "markdown",
   "metadata": {},
   "source": [
    "#### Worst trades\n",
    "\n",
    "Here is a table with the 3 worst trades."
   ]
  },
  {
   "cell_type": "code",
   "execution_count": 52,
   "metadata": {},
   "outputs": [
    {
     "data": {
      "text/html": [
       "<div>\n",
       "<style scoped>\n",
       "    .dataframe tbody tr th:only-of-type {\n",
       "        vertical-align: middle;\n",
       "    }\n",
       "\n",
       "    .dataframe tbody tr th {\n",
       "        vertical-align: top;\n",
       "    }\n",
       "\n",
       "    .dataframe thead th {\n",
       "        text-align: right;\n",
       "    }\n",
       "</style>\n",
       "<table border=\"1\" class=\"dataframe\">\n",
       "  <thead>\n",
       "    <tr style=\"text-align: right;\">\n",
       "      <th></th>\n",
       "      <th>Symbol</th>\n",
       "      <th>Profit Per Lot</th>\n",
       "      <th>Profit</th>\n",
       "    </tr>\n",
       "  </thead>\n",
       "  <tbody>\n",
       "    <tr>\n",
       "      <th>367</th>\n",
       "      <td>EURUSD</td>\n",
       "      <td>23.0</td>\n",
       "      <td>23</td>\n",
       "    </tr>\n",
       "    <tr>\n",
       "      <th>1055</th>\n",
       "      <td>EURUSD</td>\n",
       "      <td>23.0</td>\n",
       "      <td>23</td>\n",
       "    </tr>\n",
       "    <tr>\n",
       "      <th>1080</th>\n",
       "      <td>DOGEUSDT</td>\n",
       "      <td>23.0</td>\n",
       "      <td>23</td>\n",
       "    </tr>\n",
       "  </tbody>\n",
       "</table>\n",
       "</div>"
      ],
      "text/plain": [
       "         Symbol  Profit Per Lot  Profit\n",
       "367     EURUSD             23.0      23\n",
       "1055    EURUSD             23.0      23\n",
       "1080  DOGEUSDT             23.0      23"
      ]
     },
     "execution_count": 52,
     "metadata": {},
     "output_type": "execute_result"
    }
   ],
   "source": [
    "df[['Symbol', 'Profit Per Lot', 'Profit']].sort_values('Profit Per Lot', ascending=True).head(3)"
   ]
  },
  {
   "cell_type": "markdown",
   "metadata": {},
   "source": [
    "#### Average win\n",
    "\n",
    "A profitable trade on average nets:"
   ]
  },
  {
   "cell_type": "code",
   "execution_count": 53,
   "metadata": {},
   "outputs": [
    {
     "data": {
      "text/plain": [
       "2829.7"
      ]
     },
     "execution_count": 53,
     "metadata": {},
     "output_type": "execute_result"
    }
   ],
   "source": [
    "avg_profit = np.round(df[df['Profit Per Lot'] >= 0]['Profit Per Lot'].mean(), 2)\n",
    "avg_profit"
   ]
  },
  {
   "cell_type": "markdown",
   "metadata": {},
   "source": [
    "#### Average loss\n",
    "A unprofitable trade on average loses:"
   ]
  },
  {
   "cell_type": "code",
   "execution_count": 54,
   "metadata": {},
   "outputs": [
    {
     "data": {
      "text/plain": [
       "nan"
      ]
     },
     "execution_count": 54,
     "metadata": {},
     "output_type": "execute_result"
    }
   ],
   "source": [
    "avg_loss = np.round(df[df['Profit Per Lot'] < 0]['Profit Per Lot'].mean(), 2)\n",
    "avg_loss"
   ]
  },
  {
   "cell_type": "markdown",
   "metadata": {},
   "source": [
    "#### Profit / loss ratio"
   ]
  },
  {
   "cell_type": "code",
   "execution_count": 55,
   "metadata": {},
   "outputs": [
    {
     "data": {
      "text/plain": [
       "nan"
      ]
     },
     "execution_count": 55,
     "metadata": {},
     "output_type": "execute_result"
    }
   ],
   "source": [
    "np.round(np.abs(avg_profit / avg_loss), 2)"
   ]
  },
  {
   "cell_type": "markdown",
   "metadata": {},
   "source": [
    "#### Percent of winning trades\n",
    "\n",
    "As can be seen winning trades occur 40% of the time."
   ]
  },
  {
   "cell_type": "code",
   "execution_count": 56,
   "metadata": {},
   "outputs": [
    {
     "data": {
      "text/plain": [
       "100.0"
      ]
     },
     "execution_count": 56,
     "metadata": {},
     "output_type": "execute_result"
    }
   ],
   "source": [
    "win_prob = np.round(df[df['Profit Per Lot'] >= 0]['Profit Per Lot'].count() / df.shape[0] * 100, 2)\n",
    "win_prob"
   ]
  },
  {
   "cell_type": "markdown",
   "metadata": {},
   "source": [
    "#### Percent of losing trades"
   ]
  },
  {
   "cell_type": "code",
   "execution_count": 57,
   "metadata": {},
   "outputs": [
    {
     "data": {
      "text/plain": [
       "0.0"
      ]
     },
     "execution_count": 57,
     "metadata": {},
     "output_type": "execute_result"
    }
   ],
   "source": [
    "loss_prob = np.round(df[df['Profit Per Lot'] < 0]['Profit Per Lot'].count() / df.shape[0] * 100, 2)\n",
    "loss_prob"
   ]
  },
  {
   "cell_type": "markdown",
   "metadata": {},
   "source": [
    "#### Probability of observing consecutive losses\n",
    "I use the well known formula to compute the probability of a series of 10 losses happening. This calculation should be taken with a grain of salt because the probabilities are most surely not fixed."
   ]
  },
  {
   "cell_type": "code",
   "execution_count": 58,
   "metadata": {},
   "outputs": [
    {
     "data": {
      "text/html": [
       "<div>\n",
       "<style scoped>\n",
       "    .dataframe tbody tr th:only-of-type {\n",
       "        vertical-align: middle;\n",
       "    }\n",
       "\n",
       "    .dataframe tbody tr th {\n",
       "        vertical-align: top;\n",
       "    }\n",
       "\n",
       "    .dataframe thead th {\n",
       "        text-align: right;\n",
       "    }\n",
       "</style>\n",
       "<table border=\"1\" class=\"dataframe\">\n",
       "  <thead>\n",
       "    <tr style=\"text-align: right;\">\n",
       "      <th></th>\n",
       "      <th>Losses</th>\n",
       "      <th>Probability</th>\n",
       "    </tr>\n",
       "  </thead>\n",
       "  <tbody>\n",
       "    <tr>\n",
       "      <th>0</th>\n",
       "      <td>1</td>\n",
       "      <td>0.0</td>\n",
       "    </tr>\n",
       "    <tr>\n",
       "      <th>1</th>\n",
       "      <td>2</td>\n",
       "      <td>0.0</td>\n",
       "    </tr>\n",
       "    <tr>\n",
       "      <th>2</th>\n",
       "      <td>3</td>\n",
       "      <td>0.0</td>\n",
       "    </tr>\n",
       "    <tr>\n",
       "      <th>3</th>\n",
       "      <td>4</td>\n",
       "      <td>0.0</td>\n",
       "    </tr>\n",
       "    <tr>\n",
       "      <th>4</th>\n",
       "      <td>5</td>\n",
       "      <td>0.0</td>\n",
       "    </tr>\n",
       "    <tr>\n",
       "      <th>5</th>\n",
       "      <td>6</td>\n",
       "      <td>0.0</td>\n",
       "    </tr>\n",
       "    <tr>\n",
       "      <th>6</th>\n",
       "      <td>7</td>\n",
       "      <td>0.0</td>\n",
       "    </tr>\n",
       "    <tr>\n",
       "      <th>7</th>\n",
       "      <td>8</td>\n",
       "      <td>0.0</td>\n",
       "    </tr>\n",
       "    <tr>\n",
       "      <th>8</th>\n",
       "      <td>9</td>\n",
       "      <td>0.0</td>\n",
       "    </tr>\n",
       "    <tr>\n",
       "      <th>9</th>\n",
       "      <td>10</td>\n",
       "      <td>0.0</td>\n",
       "    </tr>\n",
       "  </tbody>\n",
       "</table>\n",
       "</div>"
      ],
      "text/plain": [
       "   Losses  Probability\n",
       "0       1          0.0\n",
       "1       2          0.0\n",
       "2       3          0.0\n",
       "3       4          0.0\n",
       "4       5          0.0\n",
       "5       6          0.0\n",
       "6       7          0.0\n",
       "7       8          0.0\n",
       "8       9          0.0\n",
       "9      10          0.0"
      ]
     },
     "execution_count": 58,
     "metadata": {},
     "output_type": "execute_result"
    }
   ],
   "source": [
    "X = geom(loss_prob / 100)\n",
    "df_geom = pd.DataFrame([np.arange(1,11), np.round(np.power(loss_prob/100, np.arange(1,11)),2)]).T\n",
    "df_geom.columns = ['Losses', 'Probability']\n",
    "df_geom['Losses'] = df_geom['Losses'].astype('int')\n",
    "df_geom"
   ]
  },
  {
   "cell_type": "markdown",
   "metadata": {},
   "source": [
    "#### Trade duration\n",
    "\n",
    "Next I inspect the histogram of the duration of individual trades. <br>"
   ]
  },
  {
   "cell_type": "code",
   "execution_count": 59,
   "metadata": {},
   "outputs": [
    {
     "data": {
      "image/png": "[encoded data removed]",
      "text/plain": [
       "<Figure size 800x300 with 1 Axes>"
      ]
     },
     "metadata": {},
     "output_type": "display_data"
    }
   ],
   "source": [
    "plt.figure(figsize=[8,3])\n",
    "plt.hist(df['Duration'])\n",
    "plt.ylabel('Frequency')\n",
    "plt.xlabel('Time (min)')\n",
    "plt.show()"
   ]
  },
  {
   "cell_type": "markdown",
   "metadata": {},
   "source": [
    "I wonder what distribution does this follow ?\n",
    "\n",
    "I create a random discrete random variable from binned data, and fit both a exponential and power law distribution."
   ]
  },
  {
   "cell_type": "code",
   "execution_count": 61,
   "metadata": {},
   "outputs": [],
   "source": [
    "dur = df['Duration'].to_numpy()\n",
    "\n",
    "h = np.histogram(dur, bins=1000)\n",
    "D_emp = rv_histogram(h)\n",
    "\n",
    "a, loc, scale = powerlaw.fit(dur)\n",
    "D_power = powerlaw(a=a, loc=loc, scale=scale)\n",
    "\n",
    "loc, scale = expon.fit(dur)\n",
    "D_exp = expon(loc=loc, scale=scale)\n",
    "\n",
    "X = np.linspace(np.min(dur), np.max(dur), 1000)"
   ]
  },
  {
   "cell_type": "markdown",
   "metadata": {},
   "source": [
    "Unfortunately, as can bee seen the cdf's do not match, but they could serve as a approximation if need be."
   ]
  },
  {
   "cell_type": "code",
   "execution_count": 62,
   "metadata": {},
   "outputs": [
    {
     "data": {
      "image/png": "[encoded data removed]",
      "text/plain": [
       "<Figure size 900x300 with 1 Axes>"
      ]
     },
     "metadata": {},
     "output_type": "display_data"
    }
   ],
   "source": [
    "plt.figure(figsize= [9,3])\n",
    "plt.plot(X, D_power.cdf(X), label=\"Power\")\n",
    "plt.plot(X, D_exp.cdf(X), label=\"Exponential\")\n",
    "plt.plot(X, D_emp.cdf(X), label=\"Empirical\")         \n",
    "plt.legend(loc='best')\n",
    "plt.show()"
   ]
  },
  {
   "cell_type": "code",
   "execution_count": 63,
   "metadata": {},
   "outputs": [
    {
     "data": {
      "text/html": [
       "<div>\n",
       "<style scoped>\n",
       "    .dataframe tbody tr th:only-of-type {\n",
       "        vertical-align: middle;\n",
       "    }\n",
       "\n",
       "    .dataframe tbody tr th {\n",
       "        vertical-align: top;\n",
       "    }\n",
       "\n",
       "    .dataframe thead th {\n",
       "        text-align: right;\n",
       "    }\n",
       "</style>\n",
       "<table border=\"1\" class=\"dataframe\">\n",
       "  <thead>\n",
       "    <tr style=\"text-align: right;\">\n",
       "      <th></th>\n",
       "      <th>Duration</th>\n",
       "    </tr>\n",
       "  </thead>\n",
       "  <tbody>\n",
       "    <tr>\n",
       "      <th>0</th>\n",
       "      <td>47520.0</td>\n",
       "    </tr>\n",
       "    <tr>\n",
       "      <th>1</th>\n",
       "      <td>-123840.0</td>\n",
       "    </tr>\n",
       "    <tr>\n",
       "      <th>2</th>\n",
       "      <td>-295200.0</td>\n",
       "    </tr>\n",
       "    <tr>\n",
       "      <th>3</th>\n",
       "      <td>-466560.0</td>\n",
       "    </tr>\n",
       "    <tr>\n",
       "      <th>4</th>\n",
       "      <td>-637920.0</td>\n",
       "    </tr>\n",
       "    <tr>\n",
       "      <th>...</th>\n",
       "      <td>...</td>\n",
       "    </tr>\n",
       "    <tr>\n",
       "      <th>1134</th>\n",
       "      <td>-849474.0</td>\n",
       "    </tr>\n",
       "    <tr>\n",
       "      <th>1135</th>\n",
       "      <td>-1020834.0</td>\n",
       "    </tr>\n",
       "    <tr>\n",
       "      <th>1136</th>\n",
       "      <td>-851056.0</td>\n",
       "    </tr>\n",
       "    <tr>\n",
       "      <th>1137</th>\n",
       "      <td>-1022416.0</td>\n",
       "    </tr>\n",
       "    <tr>\n",
       "      <th>1138</th>\n",
       "      <td>-852638.0</td>\n",
       "    </tr>\n",
       "  </tbody>\n",
       "</table>\n",
       "<p>1139 rows × 1 columns</p>\n",
       "</div>"
      ],
      "text/plain": [
       "       Duration\n",
       "0       47520.0\n",
       "1     -123840.0\n",
       "2     -295200.0\n",
       "3     -466560.0\n",
       "4     -637920.0\n",
       "...         ...\n",
       "1134  -849474.0\n",
       "1135 -1020834.0\n",
       "1136  -851056.0\n",
       "1137 -1022416.0\n",
       "1138  -852638.0\n",
       "\n",
       "[1139 rows x 1 columns]"
      ]
     },
     "execution_count": 63,
     "metadata": {},
     "output_type": "execute_result"
    }
   ],
   "source": [
    "df_dur = df['Duration'].to_frame()\n",
    "\n",
    "df_dur"
   ]
  },
  {
   "cell_type": "code",
   "execution_count": 64,
   "metadata": {},
   "outputs": [
    {
     "data": {
      "text/plain": [
       "0         33 days 00:00:00\n",
       "1       -86 days +00:00:00\n",
       "2      -205 days +00:00:00\n",
       "3      -324 days +00:00:00\n",
       "4      -443 days +00:00:00\n",
       "               ...        \n",
       "1134   -590 days +02:06:00\n",
       "1135   -709 days +02:06:00\n",
       "1136   -592 days +23:44:00\n",
       "1137   -711 days +23:44:00\n",
       "1138   -593 days +21:22:00\n",
       "Name: Duration, Length: 1139, dtype: timedelta64[ns]"
      ]
     },
     "execution_count": 64,
     "metadata": {},
     "output_type": "execute_result"
    }
   ],
   "source": [
    "df_dur['Duration'] = df_dur['Duration'].apply(lambda x: timedelta(minutes=x))\n",
    "df_dur['Duration']"
   ]
  },
  {
   "cell_type": "markdown",
   "metadata": {},
   "source": [
    "#### Longest trades\n",
    "The longest trade took almost 4 days."
   ]
  },
  {
   "cell_type": "code",
   "execution_count": 65,
   "metadata": {},
   "outputs": [
    {
     "data": {
      "text/html": [
       "<div>\n",
       "<style scoped>\n",
       "    .dataframe tbody tr th:only-of-type {\n",
       "        vertical-align: middle;\n",
       "    }\n",
       "\n",
       "    .dataframe tbody tr th {\n",
       "        vertical-align: top;\n",
       "    }\n",
       "\n",
       "    .dataframe thead th {\n",
       "        text-align: right;\n",
       "    }\n",
       "</style>\n",
       "<table border=\"1\" class=\"dataframe\">\n",
       "  <thead>\n",
       "    <tr style=\"text-align: right;\">\n",
       "      <th></th>\n",
       "      <th>Duration</th>\n",
       "    </tr>\n",
       "  </thead>\n",
       "  <tbody>\n",
       "    <tr>\n",
       "      <th>0</th>\n",
       "      <td>33 days 00:00:00</td>\n",
       "    </tr>\n",
       "    <tr>\n",
       "      <th>1</th>\n",
       "      <td>-86 days +00:00:00</td>\n",
       "    </tr>\n",
       "    <tr>\n",
       "      <th>372</th>\n",
       "      <td>-172 days +15:48:00</td>\n",
       "    </tr>\n",
       "  </tbody>\n",
       "</table>\n",
       "</div>"
      ],
      "text/plain": [
       "               Duration\n",
       "0      33 days 00:00:00\n",
       "1    -86 days +00:00:00\n",
       "372 -172 days +15:48:00"
      ]
     },
     "execution_count": 65,
     "metadata": {},
     "output_type": "execute_result"
    }
   ],
   "source": [
    "df_dur = df_dur.sort_values('Duration', ascending=False)\n",
    "df_dur.head(3)"
   ]
  },
  {
   "cell_type": "markdown",
   "metadata": {},
   "source": [
    "#### Shortest trades\n",
    "The shortest trade took 2 minutes."
   ]
  },
  {
   "cell_type": "code",
   "execution_count": 66,
   "metadata": {},
   "outputs": [
    {
     "data": {
      "text/html": [
       "<div>\n",
       "<style scoped>\n",
       "    .dataframe tbody tr th:only-of-type {\n",
       "        vertical-align: middle;\n",
       "    }\n",
       "\n",
       "    .dataframe tbody tr th {\n",
       "        vertical-align: top;\n",
       "    }\n",
       "\n",
       "    .dataframe thead th {\n",
       "        text-align: right;\n",
       "    }\n",
       "</style>\n",
       "<table border=\"1\" class=\"dataframe\">\n",
       "  <thead>\n",
       "    <tr style=\"text-align: right;\">\n",
       "      <th></th>\n",
       "      <th>Duration</th>\n",
       "    </tr>\n",
       "  </thead>\n",
       "  <tbody>\n",
       "    <tr>\n",
       "      <th>370</th>\n",
       "      <td>-43287 days +16:54:00</td>\n",
       "    </tr>\n",
       "    <tr>\n",
       "      <th>367</th>\n",
       "      <td>-43285 days +08:27:00</td>\n",
       "    </tr>\n",
       "    <tr>\n",
       "      <th>364</th>\n",
       "      <td>-43283 days +00:00:00</td>\n",
       "    </tr>\n",
       "  </tbody>\n",
       "</table>\n",
       "</div>"
      ],
      "text/plain": [
       "                 Duration\n",
       "370 -43287 days +16:54:00\n",
       "367 -43285 days +08:27:00\n",
       "364 -43283 days +00:00:00"
      ]
     },
     "execution_count": 66,
     "metadata": {},
     "output_type": "execute_result"
    }
   ],
   "source": [
    "df_dur = df_dur.sort_values('Duration', ascending=True)\n",
    "df_dur.head(3)"
   ]
  },
  {
   "cell_type": "markdown",
   "metadata": {},
   "source": [
    "#### Trade duration vs Profit Per Lot\n",
    "\n",
    "The scatter plot shows that there seems to be a minimal relationship between the duration of a trade and its profitability. This is to be expected - as mentioned earlier the algorithm will hold on to winning trades."
   ]
  },
  {
   "cell_type": "code",
   "execution_count": 67,
   "metadata": {},
   "outputs": [
    {
     "data": {
      "image/png": "[encoded data removed]",
      "text/plain": [
       "<Figure size 1100x300 with 1 Axes>"
      ]
     },
     "metadata": {},
     "output_type": "display_data"
    }
   ],
   "source": [
    "plt.figure(figsize=[11,3])\n",
    "plt.scatter(df['Profit Per Lot'], df['Duration'] / 60, s=3)\n",
    "plt.ylabel(\"Duration (min)\")\n",
    "plt.xlabel(\"Profit Per Lot (zł)\")\n",
    "plt.show()"
   ]
  },
  {
   "cell_type": "markdown",
   "metadata": {},
   "source": [
    "#### Average number of Trades Per Day"
   ]
  },
  {
   "cell_type": "code",
   "execution_count": 68,
   "metadata": {},
   "outputs": [
    {
     "data": {
      "text/html": [
       "<div>\n",
       "<style scoped>\n",
       "    .dataframe tbody tr th:only-of-type {\n",
       "        vertical-align: middle;\n",
       "    }\n",
       "\n",
       "    .dataframe tbody tr th {\n",
       "        vertical-align: top;\n",
       "    }\n",
       "\n",
       "    .dataframe thead th {\n",
       "        text-align: right;\n",
       "    }\n",
       "</style>\n",
       "<table border=\"1\" class=\"dataframe\">\n",
       "  <thead>\n",
       "    <tr style=\"text-align: right;\">\n",
       "      <th></th>\n",
       "      <th>Open Date</th>\n",
       "      <th>Trades Per Day</th>\n",
       "    </tr>\n",
       "  </thead>\n",
       "  <tbody>\n",
       "    <tr>\n",
       "      <th>0</th>\n",
       "      <td>2019-04-01</td>\n",
       "      <td>1</td>\n",
       "    </tr>\n",
       "    <tr>\n",
       "      <th>1</th>\n",
       "      <td>2019-04-02</td>\n",
       "      <td>2</td>\n",
       "    </tr>\n",
       "    <tr>\n",
       "      <th>2</th>\n",
       "      <td>2019-04-03</td>\n",
       "      <td>2</td>\n",
       "    </tr>\n",
       "    <tr>\n",
       "      <th>3</th>\n",
       "      <td>2019-04-04</td>\n",
       "      <td>2</td>\n",
       "    </tr>\n",
       "    <tr>\n",
       "      <th>4</th>\n",
       "      <td>2019-04-05</td>\n",
       "      <td>2</td>\n",
       "    </tr>\n",
       "  </tbody>\n",
       "</table>\n",
       "</div>"
      ],
      "text/plain": [
       "    Open Date  Trades Per Day\n",
       "0  2019-04-01               1\n",
       "1  2019-04-02               2\n",
       "2  2019-04-03               2\n",
       "3  2019-04-04               2\n",
       "4  2019-04-05               2"
      ]
     },
     "execution_count": 68,
     "metadata": {},
     "output_type": "execute_result"
    }
   ],
   "source": [
    "df_open = df[['Open Date', 'Profit']]\n",
    "df_open = df_open.groupby(['Open Date'], as_index=False)\n",
    "df_open = df_open.count()\n",
    "df_open = df_open.rename(columns={'Profit': 'Trades Per Day'})\n",
    "df_open.head()"
   ]
  },
  {
   "cell_type": "markdown",
   "metadata": {},
   "source": [
    "The average number of trades per day is:"
   ]
  },
  {
   "cell_type": "code",
   "execution_count": 67,
   "metadata": {},
   "outputs": [
    {
     "data": {
      "text/plain": [
       "4.84"
      ]
     },
     "execution_count": 67,
     "metadata": {},
     "output_type": "execute_result"
    }
   ],
   "source": [
    "np.round(df_open['Trades Per Day'].mean(), 2)"
   ]
  },
  {
   "cell_type": "markdown",
   "metadata": {},
   "source": [
    "#### Trades Per Day histogram"
   ]
  },
  {
   "cell_type": "code",
   "execution_count": 69,
   "metadata": {},
   "outputs": [
    {
     "data": {
      "image/png": "[encoded data removed]",
      "text/plain": [
       "<Figure size 600x200 with 1 Axes>"
      ]
     },
     "metadata": {},
     "output_type": "display_data"
    }
   ],
   "source": [
    "plt.figure(figsize=[6,2])\n",
    "plt.hist(df_open['Trades Per Day'])\n",
    "plt.ylabel('Frequency')\n",
    "plt.xlabel('Trades Per Day')\n",
    "plt.show()"
   ]
  },
  {
   "cell_type": "markdown",
   "metadata": {},
   "source": [
    "## Time spent in trade by market\n",
    "\n",
    "I calculate the percent of time spent in trades by summing up all trade durations. I then divide that number by number of minutes in the trading period. As can be seen almost half the trading period the algorithms had positions in 'GBPUSD' and 'USDCHF'. The least time was spent trading 'OILWTI'."
   ]
  },
  {
   "cell_type": "code",
   "execution_count": 70,
   "metadata": {},
   "outputs": [
    {
     "data": {
      "image/png": "[encoded data removed]",
      "text/plain": [
       "<Figure size 800x300 with 1 Axes>"
      ]
     },
     "metadata": {},
     "output_type": "display_data"
    }
   ],
   "source": [
    "start = df['Open Date'].min()\n",
    "stop = df['Close Date'].max()\n",
    "\n",
    "total = (stop-start).total_seconds() / 60\n",
    "\n",
    "df_time = df[['Symbol', 'Duration']].groupby('Symbol', as_index=False).sum() \n",
    "df_time['Percent'] = np.round(df_time['Duration'] / total * 100)\n",
    "\n",
    "plt.figure(figsize=[8,3])\n",
    "plt.bar(df_time['Symbol'], df_time['Percent'])\n",
    "plt.xticks(df_time['Symbol'], rotation=90)\n",
    "plt.ylabel('Time In Trade (%)')\n",
    "plt.xlabel('Symbol')\n",
    "plt.show()"
   ]
  },
  {
   "cell_type": "markdown",
   "metadata": {},
   "source": [
    "## Orders\n",
    "\n",
    "There are 5 ways a order can get closed.\n",
    "1. By me. (Did not occur)\n",
    "2. By the algorithm.\n",
    "3. Market moves above/below take profit.\n",
    "4. Market moves above/below stop loss.\n",
    "5. Broker closes trades open longer than one year. (Did not occur)\n",
    "\n",
    "So I have 3 situations to examine.\n",
    "\n",
    "## Percent of stop loss  hits"
   ]
  },
  {
   "cell_type": "code",
   "execution_count": 71,
   "metadata": {},
   "outputs": [
    {
     "data": {
      "text/html": [
       "<div>\n",
       "<style scoped>\n",
       "    .dataframe tbody tr th:only-of-type {\n",
       "        vertical-align: middle;\n",
       "    }\n",
       "\n",
       "    .dataframe tbody tr th {\n",
       "        vertical-align: top;\n",
       "    }\n",
       "\n",
       "    .dataframe thead th {\n",
       "        text-align: right;\n",
       "    }\n",
       "</style>\n",
       "<table border=\"1\" class=\"dataframe\">\n",
       "  <thead>\n",
       "    <tr style=\"text-align: right;\">\n",
       "      <th></th>\n",
       "      <th>Magic</th>\n",
       "      <th>Open Time</th>\n",
       "      <th>Open Datetime</th>\n",
       "      <th>Open Price</th>\n",
       "      <th>Close Datetime</th>\n",
       "      <th>Close Price</th>\n",
       "      <th>Closing Time</th>\n",
       "      <th>Lots</th>\n",
       "      <th>Symbol</th>\n",
       "      <th>Profit</th>\n",
       "      <th>...</th>\n",
       "      <th>Close Date</th>\n",
       "      <th>Close Hour</th>\n",
       "      <th>Close Day</th>\n",
       "      <th>Close Datetime Seconds</th>\n",
       "      <th>Duration</th>\n",
       "      <th>Profit Per Lot</th>\n",
       "      <th>Order Type</th>\n",
       "      <th>Direction</th>\n",
       "      <th>Stop Loss Hit</th>\n",
       "      <th>Take Profit Hit</th>\n",
       "    </tr>\n",
       "  </thead>\n",
       "  <tbody>\n",
       "    <tr>\n",
       "      <th>0</th>\n",
       "      <td>345</td>\n",
       "      <td>12:36:00</td>\n",
       "      <td>2019-04-01 12:23:00</td>\n",
       "      <td>13227.0</td>\n",
       "      <td>2019-05-04 12:23:00</td>\n",
       "      <td>16779.0</td>\n",
       "      <td>12:34:00</td>\n",
       "      <td>0.01</td>\n",
       "      <td>EURUSD</td>\n",
       "      <td>2907</td>\n",
       "      <td>...</td>\n",
       "      <td>2019-05-04</td>\n",
       "      <td>12</td>\n",
       "      <td>Saturday</td>\n",
       "      <td>2019-05-04 12:23:00</td>\n",
       "      <td>47520.0</td>\n",
       "      <td>2907.0</td>\n",
       "      <td>Sell</td>\n",
       "      <td>-1</td>\n",
       "      <td>0</td>\n",
       "      <td>0</td>\n",
       "    </tr>\n",
       "  </tbody>\n",
       "</table>\n",
       "<p>1 rows × 25 columns</p>\n",
       "</div>"
      ],
      "text/plain": [
       "   Magic Open Time       Open Datetime  Open Price      Close Datetime  \\\n",
       "0    345  12:36:00 2019-04-01 12:23:00     13227.0 2019-05-04 12:23:00   \n",
       "\n",
       "   Close Price Closing Time  Lots   Symbol  Profit  ...  Close Date  \\\n",
       "0      16779.0     12:34:00  0.01  EURUSD     2907  ...  2019-05-04   \n",
       "\n",
       "  Close Hour  Close Day Close Datetime Seconds Duration Profit Per Lot  \\\n",
       "0         12   Saturday    2019-05-04 12:23:00  47520.0         2907.0   \n",
       "\n",
       "   Order Type Direction Stop Loss Hit  Take Profit Hit  \n",
       "0        Sell        -1             0                0  \n",
       "\n",
       "[1 rows x 25 columns]"
      ]
     },
     "execution_count": 71,
     "metadata": {},
     "output_type": "execute_result"
    }
   ],
   "source": [
    "df.head(1)"
   ]
  },
  {
   "cell_type": "markdown",
   "metadata": {},
   "source": [
    "#### Percent of take profit hits"
   ]
  },
  {
   "cell_type": "code",
   "execution_count": 71,
   "metadata": {},
   "outputs": [
    {
     "data": {
      "text/plain": [
       "11.96"
      ]
     },
     "execution_count": 71,
     "metadata": {},
     "output_type": "execute_result"
    }
   ],
   "source": [
    "np.round(df['Take Profit Hit'].sum() / df.shape[0] * 100, 2)"
   ]
  },
  {
   "cell_type": "markdown",
   "metadata": {},
   "source": [
    "#### Percent closed by algorithms\n",
    "Specifically, this is the percent of trades closed because the trade triggered different logic than moving take profit and stop loss orders."
   ]
  },
  {
   "cell_type": "code",
   "execution_count": 72,
   "metadata": {},
   "outputs": [
    {
     "data": {
      "text/plain": [
       "3.26"
      ]
     },
     "execution_count": 72,
     "metadata": {},
     "output_type": "execute_result"
    }
   ],
   "source": [
    "np.round(np.sum((df['Take Profit Hit'] == 0) & (df['Stop Loss Hit'] == 0)) / df.shape[0] * 100, 2)"
   ]
  },
  {
   "cell_type": "markdown",
   "metadata": {},
   "source": [
    "#### Stop order distance\n",
    "\n",
    "This histogram is very interesting as it shows a way I could potentially improve the logic of my algorithm.\n",
    "Placing orders 10% away from the market for the type of strategy the algorithms trade seems pointless."
   ]
  },
  {
   "cell_type": "code",
   "execution_count": 73,
   "metadata": {},
   "outputs": [
    {
     "data": {
      "image/png": "[encoded data removed]",
      "text/plain": [
       "<Figure size 288x216 with 1 Axes>"
      ]
     },
     "metadata": {
      "needs_background": "light"
     },
     "output_type": "display_data"
    }
   ],
   "source": [
    "plt.figure(figsize=[3,3])\n",
    "plt.hist(df['Stops Distance'])\n",
    "plt.ylabel('Frequency')\n",
    "plt.xlabel('Distance (%)')\n",
    "plt.show()"
   ]
  },
  {
   "cell_type": "markdown",
   "metadata": {},
   "source": [
    "### Drawdown\n",
    "\n",
    "In trading drawdown refers to the difference between the high point in a equity curve and succeding low point. I am interested in the the difference between the high point and the low point as well as the duration of the drawdown."
   ]
  },
  {
   "cell_type": "markdown",
   "metadata": {},
   "source": [
    "#### Max drawdown\n",
    "\n",
    "I define a helper function to locate the points in question."
   ]
  },
  {
   "cell_type": "code",
   "execution_count": 74,
   "metadata": {},
   "outputs": [],
   "source": [
    "def max_drawdown(arr):\n",
    "    \n",
    "    size = arr.shape[0]\n",
    "    arr = np.cumsum(arr)\n",
    "    start = np.argmax(arr)\n",
    "    stop = np.argmin(arr[start:])\n",
    "    \n",
    "    return start, arr[start], start + stop, arr[start + stop]"
   ]
  },
  {
   "cell_type": "code",
   "execution_count": 72,
   "metadata": {},
   "outputs": [],
   "source": [
    "def max_drawdown(arr):\n",
    "    \n",
    "    size = arr.shape[0]\n",
    "    arr = np.cumsum(arr)\n",
    "    start = np.argmax(arr)\n",
    "    stop = np.argmin(arr[start:])\n",
    "    \n",
    "    return start, arr[start], start + stop, arr[start + stop]"
   ]
  },
  {
   "cell_type": "code",
   "execution_count": 73,
   "metadata": {},
   "outputs": [],
   "source": [
    "d1, v1, d2, v2 = max_drawdown(df['Profit'])"
   ]
  },
  {
   "cell_type": "markdown",
   "metadata": {},
   "source": [
    "#### Cumulative profit\n",
    "\n",
    "I draw a plot of the cumulative profit over time and mark the high and low points."
   ]
  },
  {
   "cell_type": "code",
   "execution_count": 74,
   "metadata": {},
   "outputs": [
    {
     "data": {
      "image/png": "[encoded data removed]",
      "text/plain": [
       "<Figure size 800x400 with 1 Axes>"
      ]
     },
     "metadata": {},
     "output_type": "display_data"
    }
   ],
   "source": [
    "width = 800\n",
    "height = 400\n",
    "dpi = 100\n",
    "\n",
    "plt.figure(figsize=(width/dpi, height/dpi))\n",
    "plt.plot(np.cumsum(df['Profit']))\n",
    "plt.ylabel(\"Profit (zł)\")\n",
    "plt.xlabel(\"Number of trade\")\n",
    "plt.scatter(d1, v1, c=\"green\", label=\"Start of max drawdown\")\n",
    "plt.scatter(d2, v2, c=\"red\", label=\"End of max drawdown\")\n",
    "plt.legend(loc='best')\n",
    "plt.title('Maximum drawdown', fontsize=18)\n",
    "plt.tight_layout()\n",
    "plt.show()"
   ]
  },
  {
   "cell_type": "markdown",
   "metadata": {},
   "source": [
    "#### Max drawdown duration\n",
    "I find that the duration of the max drawdown was:"
   ]
  },
  {
   "cell_type": "code",
   "execution_count": 77,
   "metadata": {},
   "outputs": [
    {
     "data": {
      "text/plain": [
       "'4 days 03:48:00'"
      ]
     },
     "execution_count": 77,
     "metadata": {},
     "output_type": "execute_result"
    }
   ],
   "source": [
    "drawdown_dur = df.loc[d2, \"Open Datetime\"] - df.loc[d1, \"Open Datetime\"]\n",
    "str(drawdown_dur)"
   ]
  },
  {
   "cell_type": "markdown",
   "metadata": {},
   "source": [
    "#### Time in max drawdown\n",
    "Percent of time spent in drawdown:"
   ]
  },
  {
   "cell_type": "code",
   "execution_count": 78,
   "metadata": {},
   "outputs": [
    {
     "data": {
      "text/plain": [
       "14.85"
      ]
     },
     "execution_count": 78,
     "metadata": {},
     "output_type": "execute_result"
    }
   ],
   "source": [
    "np.round(drawdown_dur.total_seconds() / total / 60 * 100, 2) "
   ]
  },
  {
   "cell_type": "markdown",
   "metadata": {},
   "source": [
    "#### Max drawdown amount\n",
    "The difference between the high point in the equity curve and the low point is:"
   ]
  },
  {
   "cell_type": "code",
   "execution_count": 79,
   "metadata": {},
   "outputs": [
    {
     "data": {
      "text/plain": [
       "243.01"
      ]
     },
     "execution_count": 79,
     "metadata": {},
     "output_type": "execute_result"
    }
   ],
   "source": [
    "v1 - v2"
   ]
  },
  {
   "cell_type": "markdown",
   "metadata": {},
   "source": [
    "# Monte Carlo\n",
    "\n",
    "### Simulating trades\n",
    "\n",
    "<b>Assumption</b>:<br>\n",
    "* Future trades will be similar to the ones in the dataset. <br>\n",
    "* The algorithms trade size is fixed at 0.01 lots.\n",
    "\n",
    "The 'Profit Per Lot' column is sampled with replacement and summed up to simulate possible outcomes for the next 100 trades.\n",
    "\n",
    "I shall answer the following questions:\n",
    "1. What is the probability that over the next 100 trades the account will grow ?\n",
    "2. How much can I expect to lose in the worst case ?\n",
    "3. How much can I expect to gain in the best case ?"
   ]
  },
  {
   "cell_type": "markdown",
   "metadata": {},
   "source": [
    "Below is a visual to explain the process. Each line represents a different 'future'. I am interested in the distribution of these 'futures'."
   ]
  },
  {
   "cell_type": "code",
   "execution_count": 75,
   "metadata": {},
   "outputs": [
    {
     "data": {
      "image/png": "[encoded data removed]",
      "text/plain": [
       "<Figure size 800x300 with 1 Axes>"
      ]
     },
     "metadata": {},
     "output_type": "display_data"
    }
   ],
   "source": [
    "plt.figure(figsize=[8,3])\n",
    "np.random.seed(12346)\n",
    "\n",
    "for _ in range(10):\n",
    "    \n",
    "    X = np.random.choice(df['Profit Per Lot'], replace=True, size=10)\n",
    "    X = np.hstack([np.array([0]), X])\n",
    "    plt.plot(np.cumsum(X))\n",
    "    plt.xlabel(\"Trades\")\n",
    "    plt.ylabel(\"Total Profit (zł)\")"
   ]
  },
  {
   "cell_type": "markdown",
   "metadata": {},
   "source": [
    "100000 samples are chosen with replacement and summed up to get the final profit."
   ]
  },
  {
   "cell_type": "code",
   "execution_count": 76,
   "metadata": {},
   "outputs": [
    {
     "data": {
      "text/plain": [
       "array([1.000e-05, 1.000e-05, 0.000e+00, 1.000e-05, 0.000e+00, 1.000e-05,\n",
       "       1.000e-05, 0.000e+00, 2.000e-05, 1.000e-05, 2.000e-05, 3.000e-05,\n",
       "       0.000e+00, 1.000e-05, 4.000e-05, 3.000e-05, 4.000e-05, 7.000e-05,\n",
       "       7.000e-05, 1.000e-05, 7.000e-05, 6.000e-05, 6.000e-05, 4.000e-05,\n",
       "       8.000e-05, 1.000e-04, 1.300e-04, 8.000e-05, 1.400e-04, 2.000e-04,\n",
       "       1.800e-04, 1.400e-04, 2.300e-04, 2.900e-04, 2.600e-04, 2.900e-04,\n",
       "       3.300e-04, 2.900e-04, 3.500e-04, 4.600e-04, 4.500e-04, 3.900e-04,\n",
       "       5.800e-04, 5.900e-04, 6.300e-04, 8.600e-04, 9.000e-04, 8.400e-04,\n",
       "       9.400e-04, 1.300e-03, 1.170e-03, 1.190e-03, 1.430e-03, 1.440e-03,\n",
       "       1.520e-03, 1.430e-03, 1.990e-03, 2.170e-03, 2.140e-03, 2.570e-03,\n",
       "       2.410e-03, 2.900e-03, 3.190e-03, 2.760e-03, 3.420e-03, 3.420e-03,\n",
       "       4.070e-03, 4.240e-03, 4.490e-03, 4.610e-03, 4.960e-03, 5.110e-03,\n",
       "       5.290e-03, 5.640e-03, 5.810e-03, 6.780e-03, 6.770e-03, 7.120e-03,\n",
       "       7.570e-03, 7.620e-03, 8.270e-03, 8.540e-03, 8.740e-03, 9.710e-03,\n",
       "       9.640e-03, 1.011e-02, 1.061e-02, 1.107e-02, 1.133e-02, 1.177e-02,\n",
       "       1.161e-02, 1.339e-02, 1.194e-02, 1.287e-02, 1.416e-02, 1.373e-02,\n",
       "       1.351e-02, 1.459e-02, 1.515e-02, 1.546e-02, 1.548e-02, 1.511e-02,\n",
       "       1.524e-02, 1.582e-02, 1.672e-02, 1.636e-02, 1.659e-02, 1.596e-02,\n",
       "       1.642e-02, 1.667e-02, 1.640e-02, 1.624e-02, 1.585e-02, 1.684e-02,\n",
       "       1.597e-02, 1.534e-02, 1.699e-02, 1.561e-02, 1.504e-02, 1.438e-02,\n",
       "       1.410e-02, 1.513e-02, 1.432e-02, 1.386e-02, 1.338e-02, 1.285e-02,\n",
       "       1.314e-02, 1.294e-02, 1.133e-02, 1.117e-02, 1.143e-02, 1.103e-02,\n",
       "       1.058e-02, 1.016e-02, 9.390e-03, 9.650e-03, 8.950e-03, 7.870e-03,\n",
       "       8.120e-03, 7.530e-03, 7.140e-03, 6.830e-03, 6.710e-03, 5.580e-03,\n",
       "       5.910e-03, 4.780e-03, 4.560e-03, 4.370e-03, 4.090e-03, 3.860e-03,\n",
       "       3.540e-03, 3.260e-03, 3.200e-03, 2.790e-03, 2.530e-03, 2.420e-03,\n",
       "       1.930e-03, 2.030e-03, 1.820e-03, 1.820e-03, 1.560e-03, 1.290e-03,\n",
       "       9.800e-04, 9.700e-04, 8.800e-04, 7.700e-04, 6.900e-04, 6.500e-04,\n",
       "       6.600e-04, 5.900e-04, 3.900e-04, 2.700e-04, 3.200e-04, 2.700e-04,\n",
       "       2.300e-04, 2.100e-04, 1.400e-04, 1.200e-04, 1.200e-04, 9.000e-05,\n",
       "       7.000e-05, 5.000e-05, 8.000e-05, 7.000e-05, 6.000e-05, 4.000e-05,\n",
       "       2.000e-05, 6.000e-05, 2.000e-05, 0.000e+00, 2.000e-05, 3.000e-05,\n",
       "       2.000e-05, 0.000e+00, 1.000e-05, 1.000e-05, 0.000e+00, 1.000e-05,\n",
       "       0.000e+00, 1.000e-05])"
      ]
     },
     "execution_count": 76,
     "metadata": {},
     "output_type": "execute_result"
    }
   ],
   "source": [
    "nrows = 10**5 # Number of simulations\n",
    "ncols = 10**2 # Number of trades\n",
    "\n",
    "X = np.random.choice(df['Profit Per Lot'], replace=True, size=(nrows, ncols))\n",
    "X = np.cumsum(X, axis=1)\n",
    "X = X[:, ncols-1]\n",
    "density, bins = np.histogram(X, density=True, bins=200)\n",
    "X_unity = density / density.sum()\n",
    "X_unity"
   ]
  },
  {
   "cell_type": "markdown",
   "metadata": {},
   "source": [
    "### PDF from simulation\n",
    "\n",
    "I use the data from the simulation to create a pdf."
   ]
  },
  {
   "cell_type": "code",
   "execution_count": 82,
   "metadata": {},
   "outputs": [
    {
     "data": {
      "image/png": "[encoded data removed]",
      "text/plain": [
       "<Figure size 576x288 with 1 Axes>"
      ]
     },
     "metadata": {
      "needs_background": "light"
     },
     "output_type": "display_data"
    }
   ],
   "source": [
    "width = 800\n",
    "height = 400\n",
    "dpi = 100\n",
    "\n",
    "loss_prob = int(100 - np.sum(X > 0) / X.shape[0] * 100)\n",
    "mask = bins[1:] <= 0\n",
    "\n",
    "plt.figure(figsize=(width/dpi, height/dpi))\n",
    "plt.plot(bins[1:], X_unity, c='black')\n",
    "plt.fill_between(x=bins[1:][mask], y1=0, y2=X_unity[mask], alpha=1/2)\n",
    "plt.ylabel('Likelihood')\n",
    "plt.xlabel('Profit (zł)')\n",
    "plt.text(-250, 0.005, s=f'{loss_prob}%', color='white', fontsize=24)\n",
    "plt.ylim(0)\n",
    "plt.xlim(np.min(bins[1:]), np.max(bins[1:]))\n",
    "plt.title('Probability of loss over the next 100 days.', fontsize=18)\n",
    "plt.tight_layout()\n",
    "plt.savefig('./img/probability_of_loss.png')\n",
    "plt.savefig(\"C:/Users/rameshsabhavath/OneDrive/Documents/barplot.png\")\n",
    "plt.show()"
   ]
  },
  {
   "cell_type": "markdown",
   "metadata": {},
   "source": [
    "### CDF from simulation\n",
    "\n",
    "I use the data from the simulation to create a cdf."
   ]
  },
  {
   "cell_type": "code",
   "execution_count": 83,
   "metadata": {},
   "outputs": [
    {
     "data": {
      "image/png": "[encoded data removed]",
      "text/plain": [
       "<Figure size 288x216 with 1 Axes>"
      ]
     },
     "metadata": {
      "needs_background": "light"
     },
     "output_type": "display_data"
    }
   ],
   "source": [
    "plt.figure(figsize=figsize)\n",
    "plt.plot(bins[1:], np.cumsum(X_unity))\n",
    "plt.ylabel(r\"$P(X \\leq x)$\")\n",
    "plt.xlabel(\"Profit (zł)\")\n",
    "plt.show()"
   ]
  },
  {
   "cell_type": "markdown",
   "metadata": {},
   "source": [
    "### Probability of profit\n",
    "\n",
    "From the simulated data I can calculate the probability of making money over the next 100 trades:"
   ]
  },
  {
   "cell_type": "code",
   "execution_count": 77,
   "metadata": {},
   "outputs": [
    {
     "data": {
      "text/plain": [
       "100.0"
      ]
     },
     "execution_count": 77,
     "metadata": {},
     "output_type": "execute_result"
    }
   ],
   "source": [
    "np.round(np.sum(X > 0) / X.shape[0] * 100, 2)"
   ]
  },
  {
   "cell_type": "markdown",
   "metadata": {},
   "source": [
    "### Best case scenario\n",
    "\n",
    "In the best case scenario I can expect to make:"
   ]
  },
  {
   "cell_type": "code",
   "execution_count": 78,
   "metadata": {},
   "outputs": [
    {
     "data": {
      "text/plain": [
       "298444.0"
      ]
     },
     "execution_count": 78,
     "metadata": {},
     "output_type": "execute_result"
    }
   ],
   "source": [
    "alpha = 0.05\n",
    "np.round(np.quantile(X, 1-alpha), 2)"
   ]
  },
  {
   "cell_type": "code",
   "execution_count": 79,
   "metadata": {},
   "outputs": [
    {
     "data": {
      "text/plain": [
       "298444.0"
      ]
     },
     "execution_count": 79,
     "metadata": {},
     "output_type": "execute_result"
    }
   ],
   "source": [
    "alpha = 0.05\n",
    "np.round(np.quantile(X, 1-alpha), 2)"
   ]
  },
  {
   "cell_type": "markdown",
   "metadata": {},
   "source": [
    "The maximum profit in the simulation was:"
   ]
  },
  {
   "cell_type": "code",
   "execution_count": 80,
   "metadata": {},
   "outputs": [
    {
     "data": {
      "text/plain": [
       "319576.0"
      ]
     },
     "execution_count": 80,
     "metadata": {},
     "output_type": "execute_result"
    }
   ],
   "source": [
    "np.round(np.max(X), 2)"
   ]
  },
  {
   "cell_type": "markdown",
   "metadata": {},
   "source": [
    "### Worst case scenario\n",
    "In the worst case scenario I can expect to lose:"
   ]
  },
  {
   "cell_type": "code",
   "execution_count": 81,
   "metadata": {},
   "outputs": [
    {
     "data": {
      "text/plain": [
       "266577.95"
      ]
     },
     "execution_count": 81,
     "metadata": {},
     "output_type": "execute_result"
    }
   ],
   "source": [
    "np.round(np.quantile(X, alpha), 2)"
   ]
  },
  {
   "cell_type": "markdown",
   "metadata": {},
   "source": [
    "The minimum profit in the simulation was:"
   ]
  },
  {
   "cell_type": "code",
   "execution_count": 82,
   "metadata": {},
   "outputs": [
    {
     "data": {
      "text/plain": [
       "240010.0"
      ]
     },
     "execution_count": 82,
     "metadata": {},
     "output_type": "execute_result"
    }
   ],
   "source": [
    "np.round(np.min(X))"
   ]
  },
  {
   "cell_type": "code",
   "execution_count": null,
   "metadata": {},
   "outputs": [],
   "source": []
  },
  {
   "cell_type": "code",
   "execution_count": null,
   "metadata": {},
   "outputs": [],
   "source": []
  },
  {
   "cell_type": "markdown",
   "metadata": {},
   "source": [
    "#                                                                           DONE"
   ]
  },
  {
   "cell_type": "code",
   "execution_count": null,
   "metadata": {},
   "outputs": [],
   "source": []
  },
  {
   "cell_type": "code",
   "execution_count": null,
   "metadata": {},
   "outputs": [],
   "source": []
  }
 ],
 "metadata": {
  "kernelspec": {
   "display_name": "Python 3 (ipykernel)",
   "language": "python",
   "name": "python3"
  },
  "language_info": {
   "codemirror_mode": {
    "name": "ipython",
    "version": 3
   },
   "file_extension": ".py",
   "mimetype": "text/x-python",
   "name": "python",
   "nbconvert_exporter": "python",
   "pygments_lexer": "ipython3",
   "version": "3.12.7"
  }
 },
 "nbformat": 4,
 "nbformat_minor": 4
}
